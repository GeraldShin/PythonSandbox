{
 "cells": [
  {
   "cell_type": "markdown",
   "metadata": {},
   "source": [
    "# Statistics Review"
   ]
  },
  {
   "cell_type": "markdown",
   "metadata": {},
   "source": [
    "## Probability\n",
    "---\n",
    "Probability is usually notated as P(E), meaning the probability (P) of the event (E) happening.  \n",
    "We can further break this down by seeing the number of ways the event can happen, n(E) divided by the total number of outcomes, n(T).  \n",
    "\n",
    "*P(E) = n(E) / n(T)*"
   ]
  },
  {
   "cell_type": "markdown",
   "metadata": {},
   "source": [
    "### Conditional Probability\n",
    "\n",
    "This probability is the probability of an event ***given that another event has already occured.***  \n",
    "Notation for this calculation is as follows, given events A and B:  \n",
    "\n",
    "*P(B | A) = P(A&B) / P(A)*  \n",
    "*The pipe notates a 'given' here, so this reads, GIVEN A then Prob(B)*  \n",
    "\n",
    "In plain English, this means that the probability that B will happen given that A has already happened is the mathematical result of the ***probabability of them BOTH happening, divided by the probability of just A happening.***"
   ]
  },
  {
   "cell_type": "markdown",
   "metadata": {},
   "source": [
    "### Bayes' Theorem & Bayesian Statistics\n",
    "\n",
    "The Bayes' theorem is a formula that describes how to update probabilities given evidence. The notation is below:  \n",
    "\n",
    "*P(A | B) = [ P(B | A) * P(A) ]/ P(B)*  \n",
    "*The probability that A will happen, given B has happened is equal to the product of the inverse and probability of A.  \n",
    "All of this divided by the probability of B.*  \n",
    "\n",
    "\n",
    "The Bayes' theorem is vital in data science because using this inference we can start to build a LEARNING model given these predictions. Consider the following equation, in English.  \n",
    "\n",
    "*POSTERIOR = [ PRIOR X LIKELIHOOD ]/ EVIDENCE*"
   ]
  },
  {
   "cell_type": "markdown",
   "metadata": {},
   "source": [
    "![Random Variables](https://miro.medium.com/max/488/1*UzBn1v7XGb37h4m191vRMw.png \"Random Variables - Coin Flip Example\")"
   ]
  },
  {
   "cell_type": "markdown",
   "metadata": {},
   "source": [
    "### Random Variables\n",
    "\n",
    "These variables are sets of possible results sets from the random events associated in the probability distribution.  \n",
    "These values can be either discrete or continuous in nature.  \n",
    "Also called random quantity, aleatory variable, or stochastic variable."
   ]
  },
  {
   "cell_type": "markdown",
   "metadata": {},
   "source": [
    "## Probability Distributions\n",
    "***\n",
    "\n",
    "### The Binomial Distribution\n",
    "The Binomial Distribution is a statistical experiement set up through a few properties:  \n",
    "1. The experiment consists of n-number of ***repeated*** trials.\n",
    "2. Each trial has two results, success or failure.\n",
    "3. The probability of a success (denoted by P) is the ***same*** on ***every, single trial***.\n",
    "\n"
   ]
  },
  {
   "cell_type": "markdown",
   "metadata": {},
   "source": [
    "### Gaussian Distribution (aka Normal Distribution)\n",
    "\n",
    "The Gaussian Distribution is a probability distribution that is ***symmetric*** about the mean. This shows that values nearing the mean value appear more frequently. Like the Binomial Distribution, the Gaussian Distribution has a few distinctive properties:\n",
    "1. The normal distribution curve is symmetrical about the mean.\n",
    "2. The mean is at the middle of the distribution and divides the area into 2 halves.\n",
    "3. The total area underneath the curve is equal to 1. Meaning that all of the observations are underneath the curve.\n",
    "4. It is completely determined by the mean and the standard deviation. "
   ]
  },
  {
   "cell_type": "code",
   "execution_count": null,
   "metadata": {},
   "outputs": [],
   "source": []
  }
 ],
 "metadata": {
  "kernelspec": {
   "display_name": "Python 3",
   "language": "python",
   "name": "python3"
  },
  "language_info": {
   "codemirror_mode": {
    "name": "ipython",
    "version": 3
   },
   "file_extension": ".py",
   "mimetype": "text/x-python",
   "name": "python",
   "nbconvert_exporter": "python",
   "pygments_lexer": "ipython3",
   "version": "3.7.0"
  }
 },
 "nbformat": 4,
 "nbformat_minor": 2
}
