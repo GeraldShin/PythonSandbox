{
 "cells": [
  {
   "cell_type": "markdown",
   "metadata": {},
   "source": [
    "# Python Sandbox (Notes)"
   ]
  },
  {
   "cell_type": "markdown",
   "metadata": {},
   "source": [
    "### NumPy"
   ]
  },
  {
   "cell_type": "code",
   "execution_count": 6,
   "metadata": {},
   "outputs": [],
   "source": [
    "import numpy as np"
   ]
  },
  {
   "cell_type": "code",
   "execution_count": 7,
   "metadata": {},
   "outputs": [],
   "source": [
    "rarray = np.random.rand(6,6)"
   ]
  },
  {
   "cell_type": "code",
   "execution_count": 8,
   "metadata": {},
   "outputs": [
    {
     "name": "stdout",
     "output_type": "stream",
     "text": [
      "[[0.71743307 0.95371141 0.81364319 0.60878408 0.18221915 0.13449025]\n",
      " [0.59443827 0.31458399 0.00402874 0.78887061 0.03399027 0.55736257]\n",
      " [0.50030285 0.0437602  0.44170829 0.83167229 0.97863304 0.17551678]\n",
      " [0.10949048 0.57531763 0.91656336 0.67338377 0.73858747 0.51459732]\n",
      " [0.27353444 0.24531603 0.29277674 0.12995186 0.09672717 0.61248456]\n",
      " [0.63644249 0.06639662 0.54602959 0.62894861 0.77155117 0.55054817]]\n"
     ]
    }
   ],
   "source": [
    "print(rarray)"
   ]
  },
  {
   "cell_type": "code",
   "execution_count": 10,
   "metadata": {},
   "outputs": [
    {
     "data": {
      "text/plain": [
       "array([[0.13449025, 0.18221915, 0.60878408, 0.71743307, 0.81364319,\n",
       "        0.95371141],\n",
       "       [0.00402874, 0.03399027, 0.31458399, 0.55736257, 0.59443827,\n",
       "        0.78887061],\n",
       "       [0.0437602 , 0.17551678, 0.44170829, 0.50030285, 0.83167229,\n",
       "        0.97863304],\n",
       "       [0.10949048, 0.51459732, 0.57531763, 0.67338377, 0.73858747,\n",
       "        0.91656336],\n",
       "       [0.09672717, 0.12995186, 0.24531603, 0.27353444, 0.29277674,\n",
       "        0.61248456],\n",
       "       [0.06639662, 0.54602959, 0.55054817, 0.62894861, 0.63644249,\n",
       "        0.77155117]])"
      ]
     },
     "execution_count": 10,
     "metadata": {},
     "output_type": "execute_result"
    }
   ],
   "source": [
    "np.sort(rarray, axis=1, kind = 'quicksort')"
   ]
  },
  {
   "cell_type": "code",
   "execution_count": null,
   "metadata": {},
   "outputs": [],
   "source": [
    "print(rarray) #looks like this ordered the array row-by-row"
   ]
  },
  {
   "cell_type": "code",
   "execution_count": 12,
   "metadata": {},
   "outputs": [],
   "source": [
    "grades = np.array([1, 3, 4, 2, 5, 5, 6, 1, 2])"
   ]
  },
  {
   "cell_type": "markdown",
   "metadata": {},
   "source": [
    "##### np.where()"
   ]
  },
  {
   "cell_type": "code",
   "execution_count": 13,
   "metadata": {},
   "outputs": [
    {
     "data": {
      "text/plain": [
       "(array([2, 4, 5, 6], dtype=int64),)"
      ]
     },
     "execution_count": 13,
     "metadata": {},
     "output_type": "execute_result"
    }
   ],
   "source": [
    "np.where(grades > 3)\n",
    "#this will grab any INDICES of VALUES that satisfy the conditional statement\n",
    "#you can go further with this method by passing in replacements...\n",
    "#syntax -> np.where(conditional, replace true, replace false)"
   ]
  },
  {
   "cell_type": "code",
   "execution_count": 14,
   "metadata": {},
   "outputs": [
    {
     "data": {
      "text/plain": [
       "array(['failing', 'failing', 'passing', 'failing', 'passing', 'passing',\n",
       "       'passing', 'failing', 'failing'], dtype='<U7')"
      ]
     },
     "execution_count": 14,
     "metadata": {},
     "output_type": "execute_result"
    }
   ],
   "source": [
    "np.where(grades > 3, 'passing', 'failing')"
   ]
  },
  {
   "cell_type": "markdown",
   "metadata": {},
   "source": [
    "##### argmin / max / sort()"
   ]
  },
  {
   "cell_type": "code",
   "execution_count": 18,
   "metadata": {},
   "outputs": [
    {
     "data": {
      "text/plain": [
       "array([1, 3, 4, 2, 5, 5, 6, 1, 2])"
      ]
     },
     "metadata": {},
     "output_type": "display_data"
    },
    {
     "data": {
      "text/plain": [
       "0"
      ]
     },
     "metadata": {},
     "output_type": "display_data"
    },
    {
     "data": {
      "text/plain": [
       "6"
      ]
     },
     "metadata": {},
     "output_type": "display_data"
    },
    {
     "data": {
      "text/plain": [
       "array([0, 7, 3, 8, 1, 2, 4, 5, 6], dtype=int64)"
      ]
     },
     "metadata": {},
     "output_type": "display_data"
    }
   ],
   "source": [
    "#argmin -> Returns index of minima\n",
    "#argmax -> Returns index of maxima\n",
    "#sort -> Returns sorted index \n",
    "display(grades)\n",
    "display(grades.argmin()) \n",
    "display(grades.argmax())\n",
    "display(grades.argsort())"
   ]
  },
  {
   "cell_type": "code",
   "execution_count": 28,
   "metadata": {},
   "outputs": [
    {
     "name": "stdout",
     "output_type": "stream",
     "text": [
      "[6 4 3 7 2 8 2 6 2]\n"
     ]
    },
    {
     "data": {
      "text/plain": [
       "array([2, 3, 4, 6])"
      ]
     },
     "execution_count": 28,
     "metadata": {},
     "output_type": "execute_result"
    }
   ],
   "source": [
    "grades2 = np.array(np.random.randint(1,10,9))\n",
    "print(grades2)\n",
    "\n",
    "np.intersect1d(grades, grades2)"
   ]
  },
  {
   "cell_type": "markdown",
   "metadata": {},
   "source": [
    "### Pandas"
   ]
  },
  {
   "cell_type": "code",
   "execution_count": null,
   "metadata": {},
   "outputs": [],
   "source": []
  }
 ],
 "metadata": {
  "kernelspec": {
   "display_name": "Python 3",
   "language": "python",
   "name": "python3"
  },
  "language_info": {
   "codemirror_mode": {
    "name": "ipython",
    "version": 3
   },
   "file_extension": ".py",
   "mimetype": "text/x-python",
   "name": "python",
   "nbconvert_exporter": "python",
   "pygments_lexer": "ipython3",
   "version": "3.6.2"
  }
 },
 "nbformat": 4,
 "nbformat_minor": 2
}
