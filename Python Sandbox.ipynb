{
 "cells": [
  {
   "cell_type": "markdown",
   "metadata": {},
   "source": [
    "# Python Sandbox (Notes)"
   ]
  },
  {
   "cell_type": "markdown",
   "metadata": {},
   "source": [
    "### stdin & stdout\n",
    "These Python commands read files from the system and output. \n"
   ]
  },
  {
   "cell_type": "code",
   "execution_count": null,
   "metadata": {},
   "outputs": [],
   "source": [
    "import sys\n",
    "\n",
    "count = 0 #this will count the # of lines in an input\n",
    "for line in sys.stdin:\n",
    "    count+=1\n",
    "    \n",
    "print(count)\n",
    "\n",
    "######################\n",
    "#you would save the below as 'most_common_words.py'\n",
    "from collections import Counter\n",
    "\n",
    "try: #this will find the number of words in a given input\n",
    "    num_words = int(sys.argv[1]) #index pos 0 is the name of the program itself\n",
    "except:\n",
    "    print(\"usage: most_common_words.py num_words\")\n",
    "    sys.exit(1) #nonzero exit code indicates an error has occured\n",
    "\n",
    "counter = Counter(word.lower() \n",
    "                  for line in sys.stdin\n",
    "                  for word in line.strip().split() #splits on spaces if no char is passed\n",
    "                  if word) #evaluates false for empty words\n",
    "\n",
    "for word, count in counter.most_common(num_words):\n",
    "    sys.stdout.write(str(count))\n",
    "    sys.stdout.write(\"\\t\")\n",
    "    sys.stdout.write(word)\n",
    "    sys.stdout.write(\"\\n\")\n",
    "    \n",
    "#To run this, would you need to execute\n",
    "\n",
    "$ cat sometextfile.txt | python most_common_words.py #this is for UNIX based. \n",
    "#The output of LEFT is run by RIGHT of pipe\n"
   ]
  },
  {
   "cell_type": "markdown",
   "metadata": {},
   "source": [
    "### Open/Close Files in System"
   ]
  },
  {
   "cell_type": "code",
   "execution_count": null,
   "metadata": {},
   "outputs": [],
   "source": [
    "filetoread = open('read_this_file.txt', 'r')\n",
    "# r = read-only, this is default\n",
    "# w = write, this will destroy the file if it already exists\n",
    "# a = append, this will add to the end of the file \n",
    "\n",
    "filetoread.close() # this will close the file when you're all done\n",
    "#This way the file will be closed after the block completes. \n",
    "#You can get around having to open/close files by using a 'with' block:\n",
    "\n",
    "with open(filename) as f:\n",
    "    data = function_that_pulls_stuff_from_file(f)\n",
    "    func_that_does_stuff(data)\n",
    "#you can iterate through line by line if you have to read the entire file.\n",
    "\n",
    "def process(date: str, symbol: str, closing_price: float) -> None:\n",
    "    # Imagine that this function actually does something.\n",
    "    assert closing_price > 0.0\n",
    "\n",
    "import csv\n",
    "\n",
    "with open('tab_delimited_stock_prices.txt') as f:\n",
    "    tab_reader = csv.reader(f, delimiter='\\t')\n",
    "    for row in tab_reader:\n",
    "        date = row[0]\n",
    "        symbol = row[1]\n",
    "        closing_price = float(row[2])\n",
    "        process(date, symbol, closing_price)\n",
    "        \n",
    "        csv_writer = csv.writer(f, delimiter=',')\n",
    "        todays_prices = {'AAPL': 90.91, 'MSFT': 41.68, 'FB': 64.5 }\n",
    "        for stock, price in todays_prices.items():\n",
    "            csv_writer.writerow([stock,price])"
   ]
  },
  {
   "cell_type": "markdown",
   "metadata": {},
   "source": [
    "### Web-scraping and Parsing Web data\n",
    "Requests, BeautifulSoup, HTML, XML, JSON"
   ]
  },
  {
   "cell_type": "code",
   "execution_count": null,
   "metadata": {},
   "outputs": [],
   "source": [
    "#As a note. The Python built-in HTML library is not very lenient so it will do poorly with bad HTML. \n",
    "#We'll use html5lib instead.\n",
    "\n",
    "from bs4 import BeautifulSoup\n",
    "import requests\n",
    "\n",
    "url = (\"https://raw.githubusercontent.com/\"\n",
    "       \"joelgrus/data/master/getting-data.html\")\n",
    "html = requests.get(url).text\n",
    "soup = BeautifulSoup(html, 'html5lib')\n",
    "\n",
    "soup.find('p') \n",
    "soup.p #these will do the same thing. Find all the p tags in the soup object.\n",
    "\n",
    "all_paragraphs = soup.find_all('p')  # or just soup('p')\n",
    "paragraphs_with_ids = [p for p in soup('p') if p.get('id')]\n",
    "\n",
    "important_paragraphs = soup('p', {'class' : 'important'})\n",
    "important_paragraphs2 = soup('p', 'important')\n",
    "important_paragraphs3 = [p for p in soup('p')\n",
    "                         if 'important' in p.get('class', [])]\n",
    "\n"
   ]
  },
  {
   "cell_type": "markdown",
   "metadata": {},
   "source": [
    "### Itertools\n",
    "This package makes it easier to make iterable sequences..."
   ]
  },
  {
   "cell_type": "code",
   "execution_count": 9,
   "metadata": {},
   "outputs": [
    {
     "data": {
      "text/plain": [
       "[('Team 1', 'Team 2'),\n",
       " ('Team 1', 'Team 3'),\n",
       " ('Team 1', 'Team 4'),\n",
       " ('Team 2', 'Team 3'),\n",
       " ('Team 2', 'Team 4'),\n",
       " ('Team 3', 'Team 4')]"
      ]
     },
     "execution_count": 9,
     "metadata": {},
     "output_type": "execute_result"
    }
   ],
   "source": [
    "import itertools\n",
    "friends = ['Team 1', 'Team 2', 'Team 3', 'Team 4'] #You want to create different permutations of this list \n",
    "list(itertools.combinations(friends, r=2))\n",
    "\n",
    "#itertools also has the itertools.permutations() method to do the same thing"
   ]
  },
  {
   "cell_type": "markdown",
   "metadata": {},
   "source": [
    "### Regex + F-Strings"
   ]
  },
  {
   "cell_type": "code",
   "execution_count": 2,
   "metadata": {},
   "outputs": [
    {
     "name": "stdout",
     "output_type": "stream",
     "text": [
      "Output:\n",
      "re.compile('The character * is an operator in Python.') <class '_sre.SRE_Pattern'>\n",
      "re.compile('The character % is an operator in Python.') <class '_sre.SRE_Pattern'>\n",
      "re.compile('The character + is an operator in Python.') <class '_sre.SRE_Pattern'>\n",
      "re.compile('The character - is an operator in Python.') <class '_sre.SRE_Pattern'>\n"
     ]
    }
   ],
   "source": [
    "import re\n",
    "\n",
    "print(\"Output:\") \n",
    "for char in [r\"*\", r\"%\", r\"+\", r\"-\"]:\n",
    "    \n",
    "    regex = re.compile(fr\"The character {char} is an operator in Python.\")\n",
    "    print(regex, type(regex))\n",
    "    #we can add some"
   ]
  },
  {
   "cell_type": "markdown",
   "metadata": {},
   "source": [
    "### Enumerate() method\n",
    "This will add a COUNTER to an ITERABLE object and return it as a enumerate object."
   ]
  },
  {
   "cell_type": "code",
   "execution_count": 7,
   "metadata": {},
   "outputs": [
    {
     "name": "stdout",
     "output_type": "stream",
     "text": [
      "['threefive', 'three', 28, 'five', 'threefive']\n"
     ]
    }
   ],
   "source": [
    "numbers = [30, 42, 28, 50, 15]\n",
    "for i, num in enumerate(numbers):\n",
    "    if num % 3 == 0 and num % 5 == 0:\n",
    "       numbers[i] = 'threefive'\n",
    "    elif num % 3 == 0:\n",
    "       numbers[i] = 'three'\n",
    "    elif num % 5 == 0:\n",
    "       numbers[i] = 'five'\n",
    "print(numbers)"
   ]
  },
  {
   "cell_type": "markdown",
   "metadata": {},
   "source": [
    "### NumPy"
   ]
  },
  {
   "cell_type": "code",
   "execution_count": 6,
   "metadata": {},
   "outputs": [],
   "source": [
    "import numpy as np"
   ]
  },
  {
   "cell_type": "code",
   "execution_count": 7,
   "metadata": {},
   "outputs": [],
   "source": [
    "rarray = np.random.rand(6,6)"
   ]
  },
  {
   "cell_type": "code",
   "execution_count": 8,
   "metadata": {},
   "outputs": [
    {
     "name": "stdout",
     "output_type": "stream",
     "text": [
      "[[0.71743307 0.95371141 0.81364319 0.60878408 0.18221915 0.13449025]\n",
      " [0.59443827 0.31458399 0.00402874 0.78887061 0.03399027 0.55736257]\n",
      " [0.50030285 0.0437602  0.44170829 0.83167229 0.97863304 0.17551678]\n",
      " [0.10949048 0.57531763 0.91656336 0.67338377 0.73858747 0.51459732]\n",
      " [0.27353444 0.24531603 0.29277674 0.12995186 0.09672717 0.61248456]\n",
      " [0.63644249 0.06639662 0.54602959 0.62894861 0.77155117 0.55054817]]\n"
     ]
    }
   ],
   "source": [
    "print(rarray)"
   ]
  },
  {
   "cell_type": "code",
   "execution_count": 10,
   "metadata": {},
   "outputs": [
    {
     "data": {
      "text/plain": [
       "array([[0.13449025, 0.18221915, 0.60878408, 0.71743307, 0.81364319,\n",
       "        0.95371141],\n",
       "       [0.00402874, 0.03399027, 0.31458399, 0.55736257, 0.59443827,\n",
       "        0.78887061],\n",
       "       [0.0437602 , 0.17551678, 0.44170829, 0.50030285, 0.83167229,\n",
       "        0.97863304],\n",
       "       [0.10949048, 0.51459732, 0.57531763, 0.67338377, 0.73858747,\n",
       "        0.91656336],\n",
       "       [0.09672717, 0.12995186, 0.24531603, 0.27353444, 0.29277674,\n",
       "        0.61248456],\n",
       "       [0.06639662, 0.54602959, 0.55054817, 0.62894861, 0.63644249,\n",
       "        0.77155117]])"
      ]
     },
     "execution_count": 10,
     "metadata": {},
     "output_type": "execute_result"
    }
   ],
   "source": [
    "np.sort(rarray, axis=1, kind = 'quicksort')"
   ]
  },
  {
   "cell_type": "code",
   "execution_count": null,
   "metadata": {},
   "outputs": [],
   "source": [
    "print(rarray) #looks like this ordered the array row-by-row"
   ]
  },
  {
   "cell_type": "code",
   "execution_count": 12,
   "metadata": {},
   "outputs": [],
   "source": [
    "grades = np.array([1, 3, 4, 2, 5, 5, 6, 1, 2])"
   ]
  },
  {
   "cell_type": "markdown",
   "metadata": {},
   "source": [
    "##### np.where()"
   ]
  },
  {
   "cell_type": "code",
   "execution_count": 13,
   "metadata": {},
   "outputs": [
    {
     "data": {
      "text/plain": [
       "(array([2, 4, 5, 6], dtype=int64),)"
      ]
     },
     "execution_count": 13,
     "metadata": {},
     "output_type": "execute_result"
    }
   ],
   "source": [
    "np.where(grades > 3)\n",
    "#this will grab any INDICES of VALUES that satisfy the conditional statement\n",
    "#you can go further with this method by passing in replacements...\n",
    "#syntax -> np.where(conditional, replace true, replace false)"
   ]
  },
  {
   "cell_type": "code",
   "execution_count": 14,
   "metadata": {},
   "outputs": [
    {
     "data": {
      "text/plain": [
       "array(['failing', 'failing', 'passing', 'failing', 'passing', 'passing',\n",
       "       'passing', 'failing', 'failing'], dtype='<U7')"
      ]
     },
     "execution_count": 14,
     "metadata": {},
     "output_type": "execute_result"
    }
   ],
   "source": [
    "np.where(grades > 3, 'passing', 'failing')"
   ]
  },
  {
   "cell_type": "markdown",
   "metadata": {},
   "source": [
    "##### argmin / max / sort()"
   ]
  },
  {
   "cell_type": "code",
   "execution_count": 18,
   "metadata": {},
   "outputs": [
    {
     "data": {
      "text/plain": [
       "array([1, 3, 4, 2, 5, 5, 6, 1, 2])"
      ]
     },
     "metadata": {},
     "output_type": "display_data"
    },
    {
     "data": {
      "text/plain": [
       "0"
      ]
     },
     "metadata": {},
     "output_type": "display_data"
    },
    {
     "data": {
      "text/plain": [
       "6"
      ]
     },
     "metadata": {},
     "output_type": "display_data"
    },
    {
     "data": {
      "text/plain": [
       "array([0, 7, 3, 8, 1, 2, 4, 5, 6], dtype=int64)"
      ]
     },
     "metadata": {},
     "output_type": "display_data"
    }
   ],
   "source": [
    "#argmin -> Returns index of minima\n",
    "#argmax -> Returns index of maxima\n",
    "#sort -> Returns sorted index \n",
    "display(grades)\n",
    "display(grades.argmin()) \n",
    "display(grades.argmax())\n",
    "display(grades.argsort())"
   ]
  },
  {
   "cell_type": "code",
   "execution_count": 28,
   "metadata": {},
   "outputs": [
    {
     "name": "stdout",
     "output_type": "stream",
     "text": [
      "[6 4 3 7 2 8 2 6 2]\n"
     ]
    },
    {
     "data": {
      "text/plain": [
       "array([2, 3, 4, 6])"
      ]
     },
     "execution_count": 28,
     "metadata": {},
     "output_type": "execute_result"
    }
   ],
   "source": [
    "grades2 = np.array(np.random.randint(1,10,9))\n",
    "print(grades2)\n",
    "\n",
    "np.intersect1d(grades, grades2)"
   ]
  },
  {
   "cell_type": "markdown",
   "metadata": {},
   "source": [
    "### Pandas"
   ]
  },
  {
   "cell_type": "markdown",
   "metadata": {},
   "source": [
    "### Python Packages\n",
    "\n",
    "#### Emoji Package"
   ]
  },
  {
   "cell_type": "code",
   "execution_count": null,
   "metadata": {},
   "outputs": [],
   "source": [
    "pip install emoji\n",
    "\n",
    "from emoji import emojize\n",
    "print(emojize(\":thumbs_up:\")) "
   ]
  },
  {
   "cell_type": "markdown",
   "metadata": {},
   "source": [
    "### Engineering Principles\n",
    "\n",
    "#### List Comprehensions\n"
   ]
  },
  {
   "cell_type": "code",
   "execution_count": null,
   "metadata": {},
   "outputs": [],
   "source": [
    "numbers = [1,2,3,4,5,6,7]\n",
    "evens = [x for x in numbers if x % 2 is 0]\n",
    "odds = [y for y in numbers if y not in evens]\n",
    "cities = ['London', 'Dublin', 'Oslo']\n",
    "def visit(city):\n",
    "    print(\"Welcome to \"+city)\n",
    "for city in cities:\n",
    "    visit(city)"
   ]
  },
  {
   "cell_type": "markdown",
   "metadata": {},
   "source": [
    "### Python Snippets"
   ]
  },
  {
   "cell_type": "code",
   "execution_count": null,
   "metadata": {},
   "outputs": [],
   "source": [
    "def split_lines(s): #split a string into pieces using a separator\n",
    "  return s.split('\\n')\n",
    "split_lines('50\\n python\\n snippets')\n",
    "\n",
    "################################################################\n",
    "language = \"python\" #reverse the order of the letters in a word                                 \n",
    "reversed_language = language[::-1]\n",
    "print(reversed_language)\n",
    "\n",
    "\n",
    "################################################################\n",
    "def union(a,b): #find elements that exist in both lists\n",
    "  return list(set(a + b))\n",
    "union([1, 2, 3, 4, 5], [6, 2, 8, 1, 4])\n",
    "\n",
    "################################################################\n",
    "def unique(list): #finds if all elements in a list are unique\n",
    "    if len(list)==len(set(list)):\n",
    "        print(\"All elements are unique\")\n",
    "    else:\n",
    "        print(\"List has duplicates\")\n",
    "unique([1,2,3,4,5]) # All elements are unique\n",
    "\n",
    "################################################################\n",
    "from collections import Counter #counts freq of appearance of elements\n",
    "list = [1, 2, 3, 2, 4, 3, 2, 3]\n",
    "count = Counter(list)\n",
    "print(count) # {2: 3, 3: 3, 1: 1, 4: 1}\n",
    "\n",
    "################################################################\n",
    "def most_frequent(list): #piggy-backing, finds most freq appearance of elements\n",
    "    return max(set(list), key = list.count)\n",
    "numbers = [1, 2, 3, 2, 4, 3, 1, 3]\n",
    "most_frequent(numbers) # 3\n",
    "\n",
    "################################################################\n",
    "def multiply(n): #mapping applies the function in the parens to the data element in the parens\n",
    "    return n * n \n",
    "\n",
    "list = (1, 2, 3) \n",
    "result = map(multiply, list) \n",
    "print(list(result)) # {1, 4, 9)\n",
    "\n",
    "################################################################\n",
    "### Lambda Syntax:   \n",
    "X = lambda a, b : a * b\n",
    "Lambda (variables, any number) : function to perform using said variables\n",
    "    \n",
    "################################################################\n",
    "### Mapping and Filtering\n",
    "Maps: applies a function to the data provided it.\n",
    "X = map(func name, data to get func’d)\n",
    "\n",
    "Filters: Same thing as mapping, but only returns True evaluations.\n",
    "X = filter(func, data to get func’d)\n",
    "\n",
    " \n",
    "##################################################################\n",
    "###The Itertools Library:\n",
    "#Izip function - this will take 2 lists and create a new tuple with each element of the list.\n",
    "[a, b, c] + [1, 2, 3] + izip = (a, 1) (b, 1) (c, 1)\n",
    "\n",
    "You can recreate similar using the ‘count’ function and passing in a 1:\n",
    "For i in izip(count(1), [‘Bob’, ‘Emily’, ‘Joe’]):\n",
    "Print(i)\n",
    "\n",
    "#Dropwhile() function - will return values that follow a condition AFTER the condition results in ‘False’ the first time\n",
    "\n",
    "For X in dropwhile(drop_check, [2 ,4 ,6 ,8, 10, 12]):\n",
    "Print ('Result: X)\n",
    "\n",
    "Drop_check function in this example evaluates x > 5\n",
    "The return for this function would only print 6, 8, 10, and 12.\n",
    "\n",
    "##################################################################\n",
    "#Flask Hello World:\n",
    "\n",
    "From flask import Flask <- this is the main directory for the flask framework\n",
    "\n",
    "App = Flask(__name__) <- this initializes and then gives the flask object ‘app’ as a name\n",
    "\n",
    "@app.route(‘/’) <- for the ‘app’ object, we route the URL of / (usually a home page or something) to the home function defined below.\n",
    "\n",
    "Def home():\n",
    "          Return “<h1> Hello World </h1>”"
   ]
  }
 ],
 "metadata": {
  "kernelspec": {
   "display_name": "Python 3",
   "language": "python",
   "name": "python3"
  },
  "language_info": {
   "codemirror_mode": {
    "name": "ipython",
    "version": 3
   },
   "file_extension": ".py",
   "mimetype": "text/x-python",
   "name": "python",
   "nbconvert_exporter": "python",
   "pygments_lexer": "ipython3",
   "version": "3.6.5"
  }
 },
 "nbformat": 4,
 "nbformat_minor": 2
}
