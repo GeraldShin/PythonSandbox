{
 "cells": [
  {
   "cell_type": "markdown",
   "metadata": {},
   "source": [
    "# Python Sandbox (Notes)"
   ]
  },
  {
   "cell_type": "markdown",
   "metadata": {},
   "source": [
    "### Itertools\n",
    "This package makes it easier to make iterable sequences..."
   ]
  },
  {
   "cell_type": "code",
   "execution_count": 9,
   "metadata": {},
   "outputs": [
    {
     "data": {
      "text/plain": [
       "[('Team 1', 'Team 2'),\n",
       " ('Team 1', 'Team 3'),\n",
       " ('Team 1', 'Team 4'),\n",
       " ('Team 2', 'Team 3'),\n",
       " ('Team 2', 'Team 4'),\n",
       " ('Team 3', 'Team 4')]"
      ]
     },
     "execution_count": 9,
     "metadata": {},
     "output_type": "execute_result"
    }
   ],
   "source": [
    "import itertools\n",
    "friends = ['Team 1', 'Team 2', 'Team 3', 'Team 4'] #You want to create different permutations of this list \n",
    "list(itertools.combinations(friends, r=2))\n",
    "\n",
    "#itertools also has the itertools.permutations() method to do the same thing"
   ]
  },
  {
   "cell_type": "markdown",
   "metadata": {},
   "source": [
    "### Regex + F-Strings"
   ]
  },
  {
   "cell_type": "code",
   "execution_count": 2,
   "metadata": {},
   "outputs": [
    {
     "name": "stdout",
     "output_type": "stream",
     "text": [
      "Output:\n",
      "re.compile('The character * is an operator in Python.') <class '_sre.SRE_Pattern'>\n",
      "re.compile('The character % is an operator in Python.') <class '_sre.SRE_Pattern'>\n",
      "re.compile('The character + is an operator in Python.') <class '_sre.SRE_Pattern'>\n",
      "re.compile('The character - is an operator in Python.') <class '_sre.SRE_Pattern'>\n"
     ]
    }
   ],
   "source": [
    "import re\n",
    "\n",
    "print(\"Output:\") \n",
    "for char in [r\"*\", r\"%\", r\"+\", r\"-\"]:\n",
    "    \n",
    "    regex = re.compile(fr\"The character {char} is an operator in Python.\")\n",
    "    print(regex, type(regex))\n",
    "    #we can add some"
   ]
  },
  {
   "cell_type": "markdown",
   "metadata": {},
   "source": [
    "### Enumerate() method\n",
    "This will add a COUNTER to an ITERABLE object and return it as a enumerate object."
   ]
  },
  {
   "cell_type": "code",
   "execution_count": 7,
   "metadata": {},
   "outputs": [
    {
     "name": "stdout",
     "output_type": "stream",
     "text": [
      "['threefive', 'three', 28, 'five', 'threefive']\n"
     ]
    }
   ],
   "source": [
    "numbers = [30, 42, 28, 50, 15]\n",
    "for i, num in enumerate(numbers):\n",
    "    if num % 3 == 0 and num % 5 == 0:\n",
    "       numbers[i] = 'threefive'\n",
    "    elif num % 3 == 0:\n",
    "       numbers[i] = 'three'\n",
    "    elif num % 5 == 0:\n",
    "       numbers[i] = 'five'\n",
    "print(numbers)"
   ]
  },
  {
   "cell_type": "markdown",
   "metadata": {},
   "source": [
    "### NumPy"
   ]
  },
  {
   "cell_type": "code",
   "execution_count": 6,
   "metadata": {},
   "outputs": [],
   "source": [
    "import numpy as np"
   ]
  },
  {
   "cell_type": "code",
   "execution_count": 7,
   "metadata": {},
   "outputs": [],
   "source": [
    "rarray = np.random.rand(6,6)"
   ]
  },
  {
   "cell_type": "code",
   "execution_count": 8,
   "metadata": {},
   "outputs": [
    {
     "name": "stdout",
     "output_type": "stream",
     "text": [
      "[[0.71743307 0.95371141 0.81364319 0.60878408 0.18221915 0.13449025]\n",
      " [0.59443827 0.31458399 0.00402874 0.78887061 0.03399027 0.55736257]\n",
      " [0.50030285 0.0437602  0.44170829 0.83167229 0.97863304 0.17551678]\n",
      " [0.10949048 0.57531763 0.91656336 0.67338377 0.73858747 0.51459732]\n",
      " [0.27353444 0.24531603 0.29277674 0.12995186 0.09672717 0.61248456]\n",
      " [0.63644249 0.06639662 0.54602959 0.62894861 0.77155117 0.55054817]]\n"
     ]
    }
   ],
   "source": [
    "print(rarray)"
   ]
  },
  {
   "cell_type": "code",
   "execution_count": 10,
   "metadata": {},
   "outputs": [
    {
     "data": {
      "text/plain": [
       "array([[0.13449025, 0.18221915, 0.60878408, 0.71743307, 0.81364319,\n",
       "        0.95371141],\n",
       "       [0.00402874, 0.03399027, 0.31458399, 0.55736257, 0.59443827,\n",
       "        0.78887061],\n",
       "       [0.0437602 , 0.17551678, 0.44170829, 0.50030285, 0.83167229,\n",
       "        0.97863304],\n",
       "       [0.10949048, 0.51459732, 0.57531763, 0.67338377, 0.73858747,\n",
       "        0.91656336],\n",
       "       [0.09672717, 0.12995186, 0.24531603, 0.27353444, 0.29277674,\n",
       "        0.61248456],\n",
       "       [0.06639662, 0.54602959, 0.55054817, 0.62894861, 0.63644249,\n",
       "        0.77155117]])"
      ]
     },
     "execution_count": 10,
     "metadata": {},
     "output_type": "execute_result"
    }
   ],
   "source": [
    "np.sort(rarray, axis=1, kind = 'quicksort')"
   ]
  },
  {
   "cell_type": "code",
   "execution_count": null,
   "metadata": {},
   "outputs": [],
   "source": [
    "print(rarray) #looks like this ordered the array row-by-row"
   ]
  },
  {
   "cell_type": "code",
   "execution_count": 12,
   "metadata": {},
   "outputs": [],
   "source": [
    "grades = np.array([1, 3, 4, 2, 5, 5, 6, 1, 2])"
   ]
  },
  {
   "cell_type": "markdown",
   "metadata": {},
   "source": [
    "##### np.where()"
   ]
  },
  {
   "cell_type": "code",
   "execution_count": 13,
   "metadata": {},
   "outputs": [
    {
     "data": {
      "text/plain": [
       "(array([2, 4, 5, 6], dtype=int64),)"
      ]
     },
     "execution_count": 13,
     "metadata": {},
     "output_type": "execute_result"
    }
   ],
   "source": [
    "np.where(grades > 3)\n",
    "#this will grab any INDICES of VALUES that satisfy the conditional statement\n",
    "#you can go further with this method by passing in replacements...\n",
    "#syntax -> np.where(conditional, replace true, replace false)"
   ]
  },
  {
   "cell_type": "code",
   "execution_count": 14,
   "metadata": {},
   "outputs": [
    {
     "data": {
      "text/plain": [
       "array(['failing', 'failing', 'passing', 'failing', 'passing', 'passing',\n",
       "       'passing', 'failing', 'failing'], dtype='<U7')"
      ]
     },
     "execution_count": 14,
     "metadata": {},
     "output_type": "execute_result"
    }
   ],
   "source": [
    "np.where(grades > 3, 'passing', 'failing')"
   ]
  },
  {
   "cell_type": "markdown",
   "metadata": {},
   "source": [
    "##### argmin / max / sort()"
   ]
  },
  {
   "cell_type": "code",
   "execution_count": 18,
   "metadata": {},
   "outputs": [
    {
     "data": {
      "text/plain": [
       "array([1, 3, 4, 2, 5, 5, 6, 1, 2])"
      ]
     },
     "metadata": {},
     "output_type": "display_data"
    },
    {
     "data": {
      "text/plain": [
       "0"
      ]
     },
     "metadata": {},
     "output_type": "display_data"
    },
    {
     "data": {
      "text/plain": [
       "6"
      ]
     },
     "metadata": {},
     "output_type": "display_data"
    },
    {
     "data": {
      "text/plain": [
       "array([0, 7, 3, 8, 1, 2, 4, 5, 6], dtype=int64)"
      ]
     },
     "metadata": {},
     "output_type": "display_data"
    }
   ],
   "source": [
    "#argmin -> Returns index of minima\n",
    "#argmax -> Returns index of maxima\n",
    "#sort -> Returns sorted index \n",
    "display(grades)\n",
    "display(grades.argmin()) \n",
    "display(grades.argmax())\n",
    "display(grades.argsort())"
   ]
  },
  {
   "cell_type": "code",
   "execution_count": 28,
   "metadata": {},
   "outputs": [
    {
     "name": "stdout",
     "output_type": "stream",
     "text": [
      "[6 4 3 7 2 8 2 6 2]\n"
     ]
    },
    {
     "data": {
      "text/plain": [
       "array([2, 3, 4, 6])"
      ]
     },
     "execution_count": 28,
     "metadata": {},
     "output_type": "execute_result"
    }
   ],
   "source": [
    "grades2 = np.array(np.random.randint(1,10,9))\n",
    "print(grades2)\n",
    "\n",
    "np.intersect1d(grades, grades2)"
   ]
  },
  {
   "cell_type": "markdown",
   "metadata": {},
   "source": [
    "### Pandas"
   ]
  },
  {
   "cell_type": "markdown",
   "metadata": {},
   "source": [
    "### Python Packages\n",
    "\n",
    "#### Emoji Package"
   ]
  },
  {
   "cell_type": "code",
   "execution_count": null,
   "metadata": {},
   "outputs": [],
   "source": [
    "pip install emoji\n",
    "\n",
    "from emoji import emojize\n",
    "print(emojize(\":thumbs_up:\")) "
   ]
  },
  {
   "cell_type": "markdown",
   "metadata": {},
   "source": [
    "### Engineering Principles\n",
    "\n",
    "#### List Comprehensions\n"
   ]
  },
  {
   "cell_type": "code",
   "execution_count": null,
   "metadata": {},
   "outputs": [],
   "source": [
    "numbers = [1,2,3,4,5,6,7]\n",
    "evens = [x for x in numbers if x % 2 is 0]\n",
    "odds = [y for y in numbers if y not in evens]\n",
    "cities = ['London', 'Dublin', 'Oslo']\n",
    "def visit(city):\n",
    "    print(\"Welcome to \"+city)\n",
    "for city in cities:\n",
    "    visit(city)"
   ]
  },
  {
   "cell_type": "markdown",
   "metadata": {},
   "source": [
    "### Python Snippets"
   ]
  },
  {
   "cell_type": "code",
   "execution_count": null,
   "metadata": {},
   "outputs": [],
   "source": [
    "def split_lines(s): #split a string into pieces using a separator\n",
    "  return s.split('\\n')\n",
    "split_lines('50\\n python\\n snippets')\n",
    "\n",
    "################################################################\n",
    "language = \"python\" #reverse the order of the letters in a word                                 \n",
    "reversed_language = language[::-1]\n",
    "print(reversed_language)\n",
    "\n",
    "\n",
    "################################################################\n",
    "def union(a,b): #find elements that exist in both lists\n",
    "  return list(set(a + b))\n",
    "union([1, 2, 3, 4, 5], [6, 2, 8, 1, 4])\n",
    "\n",
    "################################################################\n",
    "def unique(list): #finds if all elements in a list are unique\n",
    "    if len(list)==len(set(list)):\n",
    "        print(\"All elements are unique\")\n",
    "    else:\n",
    "        print(\"List has duplicates\")\n",
    "unique([1,2,3,4,5]) # All elements are unique\n",
    "\n",
    "################################################################\n",
    "from collections import Counter #counts freq of appearance of elements\n",
    "list = [1, 2, 3, 2, 4, 3, 2, 3]\n",
    "count = Counter(list)\n",
    "print(count) # {2: 3, 3: 3, 1: 1, 4: 1}\n",
    "\n",
    "################################################################\n",
    "def most_frequent(list): #piggy-backing, finds most freq appearance of elements\n",
    "    return max(set(list), key = list.count)\n",
    "numbers = [1, 2, 3, 2, 4, 3, 1, 3]\n",
    "most_frequent(numbers) # 3\n",
    "\n",
    "################################################################\n",
    "def multiply(n): #mapping applies the function in the parens to the data element in the parens\n",
    "    return n * n \n",
    "\n",
    "list = (1, 2, 3) \n",
    "result = map(multiply, list) \n",
    "print(list(result)) # {1, 4, 9)\n",
    "\n",
    "################################################################\n",
    "### Lambda Syntax:   \n",
    "X = lambda a, b : a * b\n",
    "Lambda (variables, any number) : function to perform using said variables\n",
    "    \n",
    "################################################################\n",
    "### Mapping and Filtering\n",
    "Maps: applies a function to the data provided it.\n",
    "X = map(func name, data to get func’d)\n",
    "\n",
    "Filters: Same thing as mapping, but only returns True evaluations.\n",
    "X = filter(func, data to get func’d)\n",
    "\n",
    " \n",
    "##################################################################\n",
    "###The Itertools Library:\n",
    "#Izip function - this will take 2 lists and create a new tuple with each element of the list.\n",
    "[a, b, c] + [1, 2, 3] + izip = (a, 1) (b, 1) (c, 1)\n",
    "\n",
    "You can recreate similar using the ‘count’ function and passing in a 1:\n",
    "For i in izip(count(1), [‘Bob’, ‘Emily’, ‘Joe’]):\n",
    "Print(i)\n",
    "\n",
    "#Dropwhile() function - will return values that follow a condition AFTER the condition results in ‘False’ the first time\n",
    "\n",
    "For X in dropwhile(drop_check, [2 ,4 ,6 ,8, 10, 12]):\n",
    "Print ('Result: X)\n",
    "\n",
    "Drop_check function in this example evaluates x > 5\n",
    "The return for this function would only print 6, 8, 10, and 12.\n",
    "\n",
    "##################################################################\n",
    "#Flask Hello World:\n",
    "\n",
    "From flask import Flask <- this is the main directory for the flask framework\n",
    "\n",
    "App = Flask(__name__) <- this initializes and then gives the flask object ‘app’ as a name\n",
    "\n",
    "@app.route(‘/’) <- for the ‘app’ object, we route the URL of / (usually a home page or something) to the home function defined below.\n",
    "\n",
    "Def home():\n",
    "          Return “<h1> Hello World </h1>”"
   ]
  }
 ],
 "metadata": {
  "kernelspec": {
   "display_name": "Python 3",
   "language": "python",
   "name": "python3"
  },
  "language_info": {
   "codemirror_mode": {
    "name": "ipython",
    "version": 3
   },
   "file_extension": ".py",
   "mimetype": "text/x-python",
   "name": "python",
   "nbconvert_exporter": "python",
   "pygments_lexer": "ipython3",
   "version": "3.6.2"
  }
 },
 "nbformat": 4,
 "nbformat_minor": 2
}
