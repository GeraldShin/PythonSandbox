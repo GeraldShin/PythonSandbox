{
 "cells": [
  {
   "cell_type": "markdown",
   "metadata": {},
   "source": [
    "# Statistics Review"
   ]
  },
  {
   "cell_type": "markdown",
   "metadata": {},
   "source": [
    "## Probability "
   ]
  },
  {
   "cell_type": "markdown",
   "metadata": {},
   "source": [
    "Probability is usually notated as P(E), meaning the probability (P) of the event (E) happening.  \n",
    "We can further break this down by seeing the number of ways the event can happen, n(E) divided by the total number of outcomes, n(T).  \n",
    "\n",
    "*P(E) = n(E) / n(T)*"
   ]
  },
  {
   "cell_type": "markdown",
   "metadata": {},
   "source": [
    "### Conditional Probability\n",
    "\n",
    "This probability is the probability of an event ***given that another event has already occured.***  \n",
    "Notation for this calculation is as follows, given events A and B:  \n",
    "\n",
    "*P(B | A) = P(A&B) / P(A)*  \n",
    "*The pipe notates a 'given' here, so this reads, GIVEN A then Prob(B)*  \n",
    "\n",
    "In plain English, this means that the probability that B will happen given that A has already happened is the mathematical result of the ***probabability of them BOTH happening, divided by the probability of just A happening.***"
   ]
  },
  {
   "cell_type": "markdown",
   "metadata": {},
   "source": [
    "### Bayes' Theorem & Bayesian Statistics\n",
    "\n",
    "The Bayes' theorem is a formula that describes how to update probabilities given evidence. The notation is below:  \n",
    "\n",
    "*P(A | B) = [ P(B | A) * P(A) ]/ P(B)*  \n",
    "*The probability that A will happen, given B has happened is equal to the product of the inverse and probability of A.  \n",
    "All of this divided by the probability of B.*  \n",
    "\n",
    "\n",
    "The Bayes' theorem is vital in data science because using this inference we can start to build a LEARNING model given these predictions. Consider the following equation, in English.  \n",
    "\n",
    "*POSTERIOR = [ PRIOR X LIKELIHOOD ]/ EVIDENCE*"
   ]
  },
  {
   "cell_type": "markdown",
   "metadata": {},
   "source": [
    "![Random Variables](https://miro.medium.com/max/488/1*UzBn1v7XGb37h4m191vRMw.png)"
   ]
  },
  {
   "cell_type": "markdown",
   "metadata": {},
   "source": [
    "### Random Variables\n",
    "\n",
    "These variables are sets of possible results sets from the random events associated in the probability distribution.  \n",
    "These values can be either discrete or continuous in nature.  \n",
    "Also called random quantity, aleatory variable, or stochastic variable."
   ]
  },
  {
   "cell_type": "markdown",
   "metadata": {},
   "source": [
    "## Probability Distributions\n",
    "***\n",
    "\n",
    "### The Binomial Distribution"
   ]
  }
 ],
 "metadata": {
  "kernelspec": {
   "display_name": "Python 3",
   "language": "python",
   "name": "python3"
  },
  "language_info": {
   "codemirror_mode": {
    "name": "ipython",
    "version": 3
   },
   "file_extension": ".py",
   "mimetype": "text/x-python",
   "name": "python",
   "nbconvert_exporter": "python",
   "pygments_lexer": "ipython3",
   "version": "3.6.2"
  }
 },
 "nbformat": 4,
 "nbformat_minor": 2
}
