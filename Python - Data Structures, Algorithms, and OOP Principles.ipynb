{
 "cells": [
  {
   "cell_type": "markdown",
   "metadata": {},
   "source": [
    "# Objects, Types, Expressions Review"
   ]
  },
  {
   "cell_type": "code",
   "execution_count": 5,
   "metadata": {},
   "outputs": [],
   "source": [
    "from IPython.core.interactiveshell import InteractiveShell\n",
    "InteractiveShell.ast_node_interactivity = \"all\"\n",
    "#this command will print all outputs, not just the final one. Jupyter quirk."
   ]
  },
  {
   "cell_type": "markdown",
   "metadata": {},
   "source": [
    "### Dictionaries and Dictionary Features"
   ]
  },
  {
   "cell_type": "code",
   "execution_count": 57,
   "metadata": {},
   "outputs": [
    {
     "data": {
      "text/plain": [
       "dict_items([('one', 1), ('two', 2), ('three', 3), ('four', 4)])"
      ]
     },
     "execution_count": 57,
     "metadata": {},
     "output_type": "execute_result"
    },
    {
     "data": {
      "text/plain": [
       "dict_items([('one', 1), ('two', 2), ('three', 3), ('four', 4), ('five', [5]), ('six', 6)])"
      ]
     },
     "execution_count": 57,
     "metadata": {},
     "output_type": "execute_result"
    },
    {
     "data": {
      "text/plain": [
       "dict_items([('one', 1), ('two', 2), ('three', 3), ('four', 4), ('five', [5, 55, 555]), ('six', 6)])"
      ]
     },
     "execution_count": 57,
     "metadata": {},
     "output_type": "execute_result"
    }
   ],
   "source": [
    "from collections import defaultdict \n",
    "#defaultdict is helpful becauseit will initialize a key if it doesnt exist yet with an empty list\n",
    "\n",
    "sampledict = {'one' : 1, 'two' : 2, 'three' : 3, 'four' : 4}\n",
    "sampledict.items() #returns the key-value pairs in the dictionary object\n",
    "\n",
    "neweles = {'five' : [5], 'six' : 6} #values can be ints, strings, dicts, lists, etc.\n",
    "\n",
    "stackeles1 = 55\n",
    "stackeles2 = 555\n",
    "\n",
    "sampledict.update(neweles) #method adds the elements of the given obj to the dictionary\n",
    "\n",
    "sampledict.items()\n",
    "\n",
    "sampledict['five'].append(stackeles1)\n",
    "sampledict['five'].append(stackeles2) #add value to keys\n",
    "\n",
    "sampledict.items()"
   ]
  },
  {
   "cell_type": "code",
   "execution_count": 58,
   "metadata": {},
   "outputs": [
    {
     "data": {
      "text/plain": [
       "[5, 55, 555]"
      ]
     },
     "execution_count": 58,
     "metadata": {},
     "output_type": "execute_result"
    }
   ],
   "source": [
    "#So we can check if the key exists in the dictionary and then prints out the values associated with that key...\n",
    "\n",
    "for key, value in sampledict.items():\n",
    "    if key == 'five':\n",
    "        value"
   ]
  },
  {
   "cell_type": "code",
   "execution_count": 66,
   "metadata": {},
   "outputs": [
    {
     "data": {
      "text/plain": [
       "['five', 'four', 'one', 'six', 'three', 'two']"
      ]
     },
     "execution_count": 66,
     "metadata": {},
     "output_type": "execute_result"
    },
    {
     "data": {
      "text/plain": [
       "[5, 4, 1, 6, 3, 2]"
      ]
     },
     "execution_count": 66,
     "metadata": {},
     "output_type": "execute_result"
    },
    {
     "data": {
      "text/plain": [
       "['one', 'two', 'three', 'four', 'five', 'six']"
      ]
     },
     "execution_count": 66,
     "metadata": {},
     "output_type": "execute_result"
    },
    {
     "data": {
      "text/plain": [
       "['six', 'five', 'four', 'three', 'two', 'one']"
      ]
     },
     "execution_count": 66,
     "metadata": {},
     "output_type": "execute_result"
    }
   ],
   "source": [
    "#there are a couple ways to sort dicts and a few parameters that might make life easier\n",
    "#we're going to change our list value we made above so that we can use sorting. Can't really compare a list to an int\n",
    "sampledict['five'] = 5\n",
    "\n",
    "sorted(list(sampledict)) #alpha sort of our dict's keys\n",
    "\n",
    "[value for (key, value) in sorted(sampledict.items())]\n",
    "\n",
    "sorted(list(sampledict), key = sampledict.__getitem__) #sorts the dictionary based on the dictionary's values\n",
    "\n",
    "sorted(list(sampledict), key = sampledict.__getitem__, reverse=True) #reverse will do as it suggests\n"
   ]
  },
  {
   "cell_type": "markdown",
   "metadata": {},
   "source": [
    "## Sets\n",
    "Sets are great because they're mutable and have a few methods that make data creation/preparation a lot easier. \n",
    "The major downside would be that there is no indexing or slicing operations."
   ]
  },
  {
   "cell_type": "code",
   "execution_count": 78,
   "metadata": {},
   "outputs": [
    {
     "data": {
      "text/plain": [
       "{('ab', 3, 4, (5, 6))}"
      ]
     },
     "execution_count": 78,
     "metadata": {},
     "output_type": "execute_result"
    },
    {
     "data": {
      "text/plain": [
       "{11}"
      ]
     },
     "execution_count": 78,
     "metadata": {},
     "output_type": "execute_result"
    },
    {
     "name": "stdout",
     "output_type": "stream",
     "text": [
      "11\n",
      "('ab', 3, 4, (5, 6))\n"
     ]
    }
   ],
   "source": [
    "a = set() #mutable, most common\n",
    "b = frozenset() #immutable, can be used as a key in dictionary as it is immutable\n",
    "\n",
    "addins = ('ab', 3, 4, (5,6)) #sets are versatile in that they can contain different data types\n",
    "\n",
    "a.add(addins) #we can add the elements in our variable to the set as so\n",
    "a\n",
    "\n",
    "a.add(11)\n",
    "c = {11, 12, 13, 11}\n",
    "a.intersection(c) #this method lets us easily find common values between sets, notice we get no duplicates for 11\n",
    "\n",
    "#you can also iterate through sets\n",
    "for item in a: print(item)"
   ]
  },
  {
   "cell_type": "markdown",
   "metadata": {},
   "source": []
  },
  {
   "cell_type": "code",
   "execution_count": 1,
   "metadata": {},
   "outputs": [
    {
     "data": {
      "text/plain": [
       "1416968623408"
      ]
     },
     "execution_count": 1,
     "metadata": {},
     "output_type": "execute_result"
    }
   ],
   "source": [
    "greet = \"hello world\"\n",
    "\n",
    "id(greet)\n",
    "#this is cool because it will print out the place in the memory of this variable, it will have this id for the\n",
    "#lifetime of the object..."
   ]
  },
  {
   "cell_type": "code",
   "execution_count": 2,
   "metadata": {},
   "outputs": [
    {
     "data": {
      "text/plain": [
       "[['here', 4], ['is', 2], ['a', 1], ['sentence', 8]]"
      ]
     },
     "execution_count": 2,
     "metadata": {},
     "output_type": "execute_result"
    }
   ],
   "source": [
    "words = 'here is a sentence'.split()\n",
    "\n",
    "[[word, len(word)] for word in words]\n",
    "\n",
    "#python functions work in list comps, pretty neat"
   ]
  },
  {
   "cell_type": "code",
   "execution_count": 3,
   "metadata": {},
   "outputs": [
    {
     "data": {
      "text/plain": [
       "'Bonjour le monde'"
      ]
     },
     "execution_count": 3,
     "metadata": {},
     "output_type": "execute_result"
    }
   ],
   "source": [
    "def greeting(language):    \n",
    "    if language== 'eng':             \n",
    "        return 'hello world'       \n",
    "    if language  == 'fr':             \n",
    "        return 'Bonjour le monde'       \n",
    "    else: \n",
    "        return 'language not supported'\n",
    "\n",
    "l = [greeting('eng'), greeting('fr'), greeting('kor')]\n",
    "\n",
    "l[1] \n",
    "#functions that are called within the list will have the value of the result when called using list index"
   ]
  },
  {
   "cell_type": "code",
   "execution_count": 4,
   "metadata": {},
   "outputs": [
    {
     "data": {
      "text/plain": [
       "['in', 'The', 'word', 'this', 'longest', 'sentence.']"
      ]
     },
     "execution_count": 4,
     "metadata": {},
     "output_type": "execute_result"
    }
   ],
   "source": [
    "#functions that return functions or take functions as arguments are HIGHER ORDER FUNCTIONS\n",
    "\n",
    "#filter() / map()\n",
    "\n",
    "nums = [1, 2, 3, 4]\n",
    "\n",
    "list(map(lambda x: x**3, nums))\n",
    "\n",
    "#function as an argument to another function. (len passed to sorted)\n",
    "\n",
    "words = str.split('The longest word in this sentence.')\n",
    "\n",
    "sorted(words, key=len)\n",
    "#smallest to largest"
   ]
  },
  {
   "cell_type": "code",
   "execution_count": 6,
   "metadata": {},
   "outputs": [
    {
     "data": {
      "text/plain": [
       "250000000000"
      ]
     },
     "execution_count": 6,
     "metadata": {},
     "output_type": "execute_result"
    },
    {
     "name": "stdout",
     "output_type": "stream",
     "text": [
      "Time to sum an iterator: 0.049372\n"
     ]
    },
    {
     "data": {
      "text/plain": [
       "250000000000"
      ]
     },
     "execution_count": 6,
     "metadata": {},
     "output_type": "execute_result"
    },
    {
     "name": "stdout",
     "output_type": "stream",
     "text": [
      "Time to build and sum a list: 0.072320\n"
     ]
    }
   ],
   "source": [
    "import time\n",
    "\n",
    "#Generators use the yield keyword\n",
    "\n",
    "def oddGen(n, m):\n",
    "    while n < m:\n",
    "        yield n\n",
    "        n += 2 \n",
    "        \n",
    "def oddList(n, m):\n",
    "    list = []\n",
    "    while n < m:\n",
    "        list.append(n)\n",
    "        n += 2\n",
    "    return list\n",
    "\n",
    "t1 = time.time()\n",
    "sum(oddGen(1, 1000000))\n",
    "print(\"Time to sum an iterator: %f\" % (time.time() - t1)) \n",
    "\n",
    "t1 = time.time()\n",
    "sum(oddList(1, 1000000))\n",
    "print(\"Time to build and sum a list: %f\" % (time.time() - t1))\n"
   ]
  },
  {
   "cell_type": "markdown",
   "metadata": {},
   "source": [
    "### Generator Expression:\n",
    "This is similar to list comprehensions however they do not create a list, they create a **generator object**.  \n",
    "Therefore, it does not create data and instead creates it on demand. \n",
    "\n",
    "This means that you can't use sequencing methods like append() or insert().  \n",
    "You can easily change this into a list by using the list() function. "
   ]
  },
  {
   "cell_type": "code",
   "execution_count": 7,
   "metadata": {},
   "outputs": [
    {
     "data": {
      "text/plain": [
       "<generator object <genexpr> at 0x00000149E9E68DE0>"
      ]
     },
     "execution_count": 7,
     "metadata": {},
     "output_type": "execute_result"
    }
   ],
   "source": [
    "list = [1, 2, 3, 4]\n",
    "\n",
    "gen = (10**i for i in list)\n",
    "gen\n",
    "#notice that this is a generator object, and not data that has been created"
   ]
  },
  {
   "cell_type": "code",
   "execution_count": 8,
   "metadata": {},
   "outputs": [
    {
     "name": "stdout",
     "output_type": "stream",
     "text": [
      "10\n",
      "100\n",
      "1000\n",
      "10000\n"
     ]
    }
   ],
   "source": [
    "for x in gen: print(x)\n",
    "# this wil iterate through the generator, creating these values on demand and not storing them in memory. "
   ]
  },
  {
   "cell_type": "markdown",
   "metadata": {},
   "source": [
    "### Classes and Object-Oriented Programming (OOP) Principles\n",
    "\n",
    "**Classes** are a collection of functions, variables, and properties that **share** attributes across the class.  \n",
    "\n",
    "These will be written using the 'class' statement. This line will not create a an instance of the class though, not until a variable is assigned to it.  \n",
    "The body of the class statement is a series of statements that run during the class definition.\n",
    "\n",
    "Functions within the class are called **instance methods**. They apply operations of the class instance by passing an instance of that class as the first argument (you will see 'self' in the calls). "
   ]
  },
  {
   "cell_type": "code",
   "execution_count": 9,
   "metadata": {},
   "outputs": [],
   "source": [
    "class Employee(object):\n",
    "    numEmployee = 0\n",
    "    \n",
    "    def __init__(self, name, rate):\n",
    "        self.owed = 0\n",
    "        self.name = name\n",
    "        self.rate = rate\n",
    "        Employee.numEmployee += 1 \n",
    "        \n",
    "    def __del__(self):\n",
    "        Employee.numEmployee -= 1\n",
    "        \n",
    "    def hours(self, numHours):\n",
    "        self.owed += numHours * self.rate\n",
    "        return(f\"{numHours} hours worked\")\n",
    "    \n",
    "    def pay(self):\n",
    "        self.owed = 0\n",
    "        return(f\"paid {self.name}, now nothing is owed.\")"
   ]
  },
  {
   "cell_type": "code",
   "execution_count": 10,
   "metadata": {},
   "outputs": [
    {
     "data": {
      "text/plain": [
       "2"
      ]
     },
     "execution_count": 10,
     "metadata": {},
     "output_type": "execute_result"
    },
    {
     "data": {
      "text/plain": [
       "'20 hours worked'"
      ]
     },
     "execution_count": 10,
     "metadata": {},
     "output_type": "execute_result"
    },
    {
     "data": {
      "text/plain": [
       "370.0"
      ]
     },
     "execution_count": 10,
     "metadata": {},
     "output_type": "execute_result"
    },
    {
     "data": {
      "text/plain": [
       "'paid Jill, now nothing is owed.'"
      ]
     },
     "execution_count": 10,
     "metadata": {},
     "output_type": "execute_result"
    }
   ],
   "source": [
    "emp1 = Employee(\"Jill\", 18.50)\n",
    "#this will run the __init__\n",
    "#self creates an instance of the class\n",
    "#name is passed as \"Jill\"\n",
    "#rate is passed as 18.50\n",
    "#numEmployee is incremented +1 \n",
    "emp2 = Employee(\"Jack\", 15.50)\n",
    "\n",
    "Employee.numEmployee \n",
    "\n",
    "emp1.hours(20)\n",
    "\n",
    "emp1.owed\n",
    "\n",
    "emp1.pay()"
   ]
  },
  {
   "cell_type": "code",
   "execution_count": 11,
   "metadata": {},
   "outputs": [
    {
     "data": {
      "text/plain": [
       "['__class__',\n",
       " '__delattr__',\n",
       " '__dir__',\n",
       " '__doc__',\n",
       " '__eq__',\n",
       " '__format__',\n",
       " '__ge__',\n",
       " '__getattribute__',\n",
       " '__gt__',\n",
       " '__hash__',\n",
       " '__init__',\n",
       " '__init_subclass__',\n",
       " '__le__',\n",
       " '__lt__',\n",
       " '__ne__',\n",
       " '__new__',\n",
       " '__reduce__',\n",
       " '__reduce_ex__',\n",
       " '__repr__',\n",
       " '__setattr__',\n",
       " '__sizeof__',\n",
       " '__str__',\n",
       " '__subclasshook__']"
      ]
     },
     "execution_count": 11,
     "metadata": {},
     "output_type": "execute_result"
    }
   ],
   "source": [
    "dir(object) #these will be the special methods inside the class"
   ]
  },
  {
   "cell_type": "code",
   "execution_count": 12,
   "metadata": {},
   "outputs": [],
   "source": [
    "#Typically used functions are actually methods inside the class. For instance, the + operator and the len() function\n",
    "#are actually...\n",
    "\n",
    "\n",
    "#__add__() \n",
    "#&\n",
    "#my_object.__len__() \n",
    "\n",
    "\n",
    "#the only special method we will actually be using is the __init__ method\n",
    "#for this reason, it is strongly recommended to not use any double underscores in naming conventions\n",
    "\n",
    "class my_class():\n",
    "    def __init__(self, greet):\n",
    "        self.greet = greet\n",
    "    def __repr__(self):\n",
    "        return f'this is a custom object {self.greet!r}'\n",
    "        # this !r is a placeholder to return the standard representation of the object\n",
    "        # this way, we can see exactly what we pass the class. See example below."
   ]
  },
  {
   "cell_type": "code",
   "execution_count": 13,
   "metadata": {},
   "outputs": [
    {
     "data": {
      "text/plain": [
       "this is a custom object 'somestring'"
      ]
     },
     "execution_count": 13,
     "metadata": {},
     "output_type": "execute_result"
    }
   ],
   "source": [
    "my_class('somestring') "
   ]
  },
  {
   "cell_type": "markdown",
   "metadata": {},
   "source": [
    "### Inheritance\n",
    "You can create a hierarchy of classes that can modify the existing class. This is done by passing the 'inherited' class as an argument into the class definition. "
   ]
  },
  {
   "cell_type": "code",
   "execution_count": 14,
   "metadata": {},
   "outputs": [],
   "source": [
    "#remember our Employee class from above\n",
    "class specialEmployee(Employee):\n",
    "    def hours(self, numHours):\n",
    "        self.owed += numHours * self.rate * 2\n",
    "        return(f\"{numHours} hours worked\")"
   ]
  },
  {
   "cell_type": "markdown",
   "metadata": {},
   "source": [
    "An **instance** of the specialEmployee class is **identical** to an Employee instance except we added the hours() method. \n",
    "\n",
    "For a subclass to have new class variables, we need to add __init__() methods, like below:"
   ]
  },
  {
   "cell_type": "code",
   "execution_count": 15,
   "metadata": {},
   "outputs": [],
   "source": [
    "#again, using our Employee class\n",
    "\n",
    "class specialEmployee(Employee):\n",
    "    def __init__(self, name, rate, bonus): #here, we add bonus...\n",
    "        Employee.__init__(self, name, rate) #calls the base within the new class\n",
    "        self.bonus = bonus\n",
    "        \n",
    "    def hours(self, numHours):\n",
    "        self.owed += numHours * self.rate + self.bonus\n",
    "        return(f\"{numHours} hours worked\")\n",
    "    "
   ]
  },
  {
   "cell_type": "markdown",
   "metadata": {},
   "source": [
    "Pay close attention here as the methods from the BASE are not automatically invoked. We have to call them within the subclass. \n",
    "\n",
    "You can check class membership using the built-in function issubclass(obj1, obj2). This returns TRUE if obj1 belongs to the class of obj2 or any class derived from obj2.\n"
   ]
  },
  {
   "cell_type": "code",
   "execution_count": 20,
   "metadata": {},
   "outputs": [
    {
     "name": "stdout",
     "output_type": "stream",
     "text": [
      "True\n"
     ]
    }
   ],
   "source": [
    "print(issubclass(specialEmployee, Employee))"
   ]
  },
  {
   "cell_type": "markdown",
   "metadata": {},
   "source": [
    "**Static methods** are just ordinary functions that happen to be defined within a class. These methods cannot access the attributes of an instance, so usually they're used as a convenient way to group utility functions together. These can be explicity notated using @staticmethod.  \n",
    "\n",
    "**Class methods** operate on the class itself, not the instance. Meaning, they're associated with the classes rather than the **instances** of that class. These can be explicity notated using @classmethod. \n",
    "\n",
    "**Class methods** are further distinguished from instance methods as the pass the class as the first argument, named 'cls' by convention.\n"
   ]
  },
  {
   "cell_type": "code",
   "execution_count": 22,
   "metadata": {},
   "outputs": [],
   "source": [
    "class Aexp(object):\n",
    "    base = 2\n",
    "    @classmethod\n",
    "    def exp(cls, x):\n",
    "        return(cls.base**x)\n",
    "    \n",
    "class Bexp(Aexp):\n",
    "    base=3"
   ]
  },
  {
   "cell_type": "markdown",
   "metadata": {},
   "source": [
    "The Subclass Bexp will inherit the methods above, and simply change the base variable to 3."
   ]
  },
  {
   "cell_type": "markdown",
   "metadata": {},
   "source": [
    "### Encapsulation\n",
    "Usually all attributes and methods are accessible without restriction. From above, everything defined in a base class is available to a subclass as well. This can lead to namespace conflicts that we may want to avoid.\n",
    "\n",
    "We can do this by adding double underscores to our variables __ privateMethod will be named _Classname__privateMethod()\n",
    "\n",
    "This will be especially helpful when using a **class property** to define **mutable attributes.** A **property** is an attribute that computes a value when called, and does not store it."
   ]
  },
  {
   "cell_type": "code",
   "execution_count": 29,
   "metadata": {},
   "outputs": [],
   "source": [
    "class Bexp(Aexp):\n",
    "    __base = 3 #privatemethod\n",
    "    def __exp(self): #privatemethod\n",
    "        return(x**cls.base)"
   ]
  },
  {
   "cell_type": "markdown",
   "metadata": {},
   "source": [
    "# Data Structures"
   ]
  },
  {
   "cell_type": "markdown",
   "metadata": {},
   "source": [
    "### Modules for Data Structures and Algorithms\n",
    "There are a handful of functions available in the collections module that allow us to have better efficiency in our code. Below are the datatypes that can be found in the 'collection' module and a brief description.  \n",
    "\n",
    "\n",
    "| Datatype | Description |\n",
    "| -------- | ----------- |\n",
    "| namedtuple() | Creates tuple subclasses with named fields. |\n",
    "| deque | Lists with fast appends and pops either end. |\n",
    "| ChainMap | Dictionary like class to create a single view of multiple mappings. |\n",
    "| Counter | Dictionary subclass for counting hashable objects. |\n",
    "| OrderedDict | Dictionary subclass that remembers the entry order. |\n",
    "| defaultdict | Dictionary subclass that calls a function to supply missing values. |\n"
   ]
  },
  {
   "cell_type": "markdown",
   "metadata": {},
   "source": [
    "#### Deques aka (Decks)\n",
    "Deque or double-ended queues are list-like objects that support thread-safe (?), memory-efficient appends. They are mutable and have some operations of lists, like indexing. They can also be assigned by index. "
   ]
  },
  {
   "cell_type": "code",
   "execution_count": null,
   "metadata": {},
   "outputs": [],
   "source": []
  },
  {
   "cell_type": "markdown",
   "metadata": {},
   "source": [
    "## Queues"
   ]
  },
  {
   "cell_type": "markdown",
   "metadata": {},
   "source": [
    "## Stacks"
   ]
  },
  {
   "cell_type": "markdown",
   "metadata": {},
   "source": [
    "## Trees"
   ]
  },
  {
   "cell_type": "markdown",
   "metadata": {},
   "source": [
    "# Algorithms"
   ]
  },
  {
   "cell_type": "markdown",
   "metadata": {},
   "source": [
    "## Algorithms 101"
   ]
  },
  {
   "cell_type": "markdown",
   "metadata": {},
   "source": [
    "## Graph Algorithms"
   ]
  },
  {
   "cell_type": "markdown",
   "metadata": {},
   "source": [
    "## Sorting Algorithms"
   ]
  }
 ],
 "metadata": {
  "kernelspec": {
   "display_name": "Python 3",
   "language": "python",
   "name": "python3"
  },
  "language_info": {
   "codemirror_mode": {
    "name": "ipython",
    "version": 3
   },
   "file_extension": ".py",
   "mimetype": "text/x-python",
   "name": "python",
   "nbconvert_exporter": "python",
   "pygments_lexer": "ipython3",
   "version": "3.7.0"
  }
 },
 "nbformat": 4,
 "nbformat_minor": 2
}
