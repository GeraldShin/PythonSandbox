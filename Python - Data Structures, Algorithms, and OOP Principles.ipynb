{
 "cells": [
  {
   "cell_type": "markdown",
   "metadata": {},
   "source": [
    "# Objects, Types, Expressions Review"
   ]
  },
  {
   "cell_type": "code",
   "execution_count": 4,
   "metadata": {},
   "outputs": [
    {
     "data": {
      "text/plain": [
       "2100812156848"
      ]
     },
     "execution_count": 4,
     "metadata": {},
     "output_type": "execute_result"
    }
   ],
   "source": [
    "greet = \"hello world\"\n",
    "\n",
    "id(greet)"
   ]
  },
  {
   "cell_type": "code",
   "execution_count": 5,
   "metadata": {},
   "outputs": [
    {
     "data": {
      "text/plain": [
       "[['here', 4], ['is', 2], ['a', 1], ['sentence', 8]]"
      ]
     },
     "execution_count": 5,
     "metadata": {},
     "output_type": "execute_result"
    }
   ],
   "source": [
    "words = 'here is a sentence'.split()\n",
    "\n",
    "[[word, len(word)] for word in words]"
   ]
  },
  {
   "cell_type": "code",
   "execution_count": 8,
   "metadata": {},
   "outputs": [
    {
     "data": {
      "text/plain": [
       "'Bonjour le monde'"
      ]
     },
     "execution_count": 8,
     "metadata": {},
     "output_type": "execute_result"
    }
   ],
   "source": [
    "def greeting(language):    \n",
    "    if language== 'eng':             \n",
    "        return 'hello world'       \n",
    "    if language  == 'fr':             \n",
    "        return 'Bonjour le monde'       \n",
    "    else: \n",
    "        return 'language not supported'\n",
    "\n",
    "l = [greeting('eng'), greeting('fr'), greeting('kor')]\n",
    "\n",
    "l[1] "
   ]
  },
  {
   "cell_type": "code",
   "execution_count": 10,
   "metadata": {},
   "outputs": [
    {
     "data": {
      "text/plain": [
       "['in', 'The', 'word', 'this', 'longest', 'sentence.']"
      ]
     },
     "execution_count": 10,
     "metadata": {},
     "output_type": "execute_result"
    }
   ],
   "source": [
    "#functions that return functions or take functions as arguments are HIGHER ORDER FUNCTIONS\n",
    "\n",
    "#filter() / map()\n",
    "\n",
    "nums = [1, 2, 3, 4]\n",
    "\n",
    "list(map(lambda x: x**3, nums))\n",
    "\n",
    "#function as an argument to another function. (len passed to sorted)\n",
    "\n",
    "words = str.split('The longest word in this sentence.')\n",
    "\n",
    "sorted(words, key=len)\n"
   ]
  },
  {
   "cell_type": "code",
   "execution_count": 1,
   "metadata": {},
   "outputs": [],
   "source": [
    "from IPython.core.interactiveshell import InteractiveShell\n",
    "InteractiveShell.ast_node_interactivity = \"all\""
   ]
  },
  {
   "cell_type": "code",
   "execution_count": 2,
   "metadata": {},
   "outputs": [
    {
     "data": {
      "text/plain": [
       "250000000000"
      ]
     },
     "execution_count": 2,
     "metadata": {},
     "output_type": "execute_result"
    },
    {
     "name": "stdout",
     "output_type": "stream",
     "text": [
      "Time to sum an iterator: 0.057713\n"
     ]
    },
    {
     "data": {
      "text/plain": [
       "250000000000"
      ]
     },
     "execution_count": 2,
     "metadata": {},
     "output_type": "execute_result"
    },
    {
     "name": "stdout",
     "output_type": "stream",
     "text": [
      "Time to build and sum a list: 0.073483\n"
     ]
    }
   ],
   "source": [
    "import time\n",
    "\n",
    "#Generators use the yield keyword\n",
    "\n",
    "def oddGen(n, m):\n",
    "    while n < m:\n",
    "        yield n\n",
    "        n += 2 \n",
    "        \n",
    "def oddList(n, m):\n",
    "    list = []\n",
    "    while n < m:\n",
    "        list.append(n)\n",
    "        n += 2\n",
    "    return list\n",
    "\n",
    "t1 = time.time()\n",
    "sum(oddGen(1, 1000000))\n",
    "print(\"Time to sum an iterator: %f\" % (time.time() - t1)) \n",
    "\n",
    "t1 = time.time()\n",
    "sum(oddList(1, 1000000))\n",
    "print(\"Time to build and sum a list: %f\" % (time.time() - t1))\n"
   ]
  },
  {
   "cell_type": "markdown",
   "metadata": {},
   "source": [
    "### Generator Expression:\n",
    "This is similar to list comprehensions however they do not create a list, they create a **generator object**.  \n",
    "Therefore, it does not create data and instead creates it on demand. \n",
    "\n",
    "This means that you can't use sequencing methods like append() or insert().  \n",
    "You can easily change this into a list by using the list() function. "
   ]
  },
  {
   "cell_type": "code",
   "execution_count": 3,
   "metadata": {},
   "outputs": [
    {
     "data": {
      "text/plain": [
       "<generator object <genexpr> at 0x104f1fd00>"
      ]
     },
     "execution_count": 3,
     "metadata": {},
     "output_type": "execute_result"
    }
   ],
   "source": [
    "list = [1, 2, 3, 4]\n",
    "\n",
    "gen = (10**i for i in list)\n",
    "gen\n",
    "#notice that this is a generator object, and not data that has been created"
   ]
  },
  {
   "cell_type": "code",
   "execution_count": 4,
   "metadata": {},
   "outputs": [
    {
     "name": "stdout",
     "output_type": "stream",
     "text": [
      "10\n",
      "100\n",
      "1000\n",
      "10000\n"
     ]
    }
   ],
   "source": [
    "for x in gen: print(x)\n",
    "# this wil iterate through the generator, creating these values on demand and not storing them in memory. "
   ]
  },
  {
   "cell_type": "markdown",
   "metadata": {},
   "source": [
    "### Classes and Object-Oriented Programming (OOP) Principles\n",
    "\n",
    "**Classes** are a collection of functions, variables, and properties that **share** attributes across the class.  \n",
    "\n",
    "These will be written using the 'class' statement. This line will not create a an instance of the class though, not until a variable is assigned to it.  \n",
    "The body of the class statement is a series of statements that run during the class definition.\n",
    "\n",
    "Functions within the class are called **instance methods**. They apply operations of the class instance by passing an instance of that class as the first argument (you will see 'self' in the calls). "
   ]
  },
  {
   "cell_type": "code",
   "execution_count": 5,
   "metadata": {},
   "outputs": [],
   "source": [
    "class Employee(object):\n",
    "    numEmployee = 0\n",
    "    \n",
    "    def __init__(self, name, rate):\n",
    "        self.owed = 0\n",
    "        self.name = name\n",
    "        self.rate = rate\n",
    "        Employee.numEmployee += 1 \n",
    "        \n",
    "    def __del__(self):\n",
    "        Employee.numEmployee -= 1\n",
    "        \n",
    "    def hours(self, numHours):\n",
    "        self.owed += numHours * self.rate\n",
    "        return(f\"{numHours} hours worked\")\n",
    "    \n",
    "    def pay(self):\n",
    "        self.owed = 0\n",
    "        return(f\"paid {self.name}, now nothing is owed.\")"
   ]
  },
  {
   "cell_type": "code",
   "execution_count": 6,
   "metadata": {},
   "outputs": [
    {
     "data": {
      "text/plain": [
       "2"
      ]
     },
     "execution_count": 6,
     "metadata": {},
     "output_type": "execute_result"
    },
    {
     "data": {
      "text/plain": [
       "'20 hours worked'"
      ]
     },
     "execution_count": 6,
     "metadata": {},
     "output_type": "execute_result"
    },
    {
     "data": {
      "text/plain": [
       "370.0"
      ]
     },
     "execution_count": 6,
     "metadata": {},
     "output_type": "execute_result"
    },
    {
     "data": {
      "text/plain": [
       "'paid Jill, now nothing is owed.'"
      ]
     },
     "execution_count": 6,
     "metadata": {},
     "output_type": "execute_result"
    }
   ],
   "source": [
    "emp1 = Employee(\"Jill\", 18.50)\n",
    "#this will run the __init__\n",
    "#self creates an instance of the class\n",
    "#name is passed as \"Jill\"\n",
    "#rate is passed as 18.50\n",
    "#numEmployee is incremented +1 \n",
    "emp2 = Employee(\"Jack\", 15.50)\n",
    "\n",
    "Employee.numEmployee \n",
    "\n",
    "emp1.hours(20)\n",
    "\n",
    "emp1.owed\n",
    "\n",
    "emp1.pay()"
   ]
  },
  {
   "cell_type": "code",
   "execution_count": 7,
   "metadata": {},
   "outputs": [
    {
     "data": {
      "text/plain": [
       "['__class__',\n",
       " '__delattr__',\n",
       " '__dir__',\n",
       " '__doc__',\n",
       " '__eq__',\n",
       " '__format__',\n",
       " '__ge__',\n",
       " '__getattribute__',\n",
       " '__gt__',\n",
       " '__hash__',\n",
       " '__init__',\n",
       " '__init_subclass__',\n",
       " '__le__',\n",
       " '__lt__',\n",
       " '__ne__',\n",
       " '__new__',\n",
       " '__reduce__',\n",
       " '__reduce_ex__',\n",
       " '__repr__',\n",
       " '__setattr__',\n",
       " '__sizeof__',\n",
       " '__str__',\n",
       " '__subclasshook__']"
      ]
     },
     "execution_count": 7,
     "metadata": {},
     "output_type": "execute_result"
    }
   ],
   "source": [
    "dir(object) #these will be the special methods inside the class"
   ]
  },
  {
   "cell_type": "code",
   "execution_count": 14,
   "metadata": {},
   "outputs": [],
   "source": [
    "#Typically used functions are actually methods inside the class. For instance, the + operator and the len() function\n",
    "#are actually...\n",
    "\n",
    "\n",
    "#__add__() \n",
    "#&\n",
    "#my_object.__len__() \n",
    "\n",
    "\n",
    "#the only special method we will actually be using is the __init__ method\n",
    "#for this reason, it is strongly recommended to not use any double underscores in naming conventions\n",
    "\n",
    "class my_class():\n",
    "    def __init__(self, greet):\n",
    "        self.greet = greet\n",
    "    def __repr__(self):\n",
    "        return f'this is a custom object {self.greet!r}'\n",
    "        # this !r is a placeholder to return the standard representation of the object\n",
    "        # this way, we can see exactly what we pass the class. See example below."
   ]
  },
  {
   "cell_type": "code",
   "execution_count": 12,
   "metadata": {},
   "outputs": [
    {
     "data": {
      "text/plain": [
       "this is a custom object 'somestring'"
      ]
     },
     "execution_count": 12,
     "metadata": {},
     "output_type": "execute_result"
    }
   ],
   "source": [
    "my_class('somestring') "
   ]
  },
  {
   "cell_type": "markdown",
   "metadata": {},
   "source": [
    "# Data Structures"
   ]
  },
  {
   "cell_type": "markdown",
   "metadata": {},
   "source": [
    "## Queues"
   ]
  },
  {
   "cell_type": "markdown",
   "metadata": {},
   "source": [
    "## Stacks"
   ]
  },
  {
   "cell_type": "markdown",
   "metadata": {},
   "source": [
    "## Trees"
   ]
  },
  {
   "cell_type": "markdown",
   "metadata": {},
   "source": [
    "# Algorithms"
   ]
  },
  {
   "cell_type": "markdown",
   "metadata": {},
   "source": [
    "## Algorithms 101"
   ]
  },
  {
   "cell_type": "markdown",
   "metadata": {},
   "source": [
    "## Graph Algorithms"
   ]
  },
  {
   "cell_type": "markdown",
   "metadata": {},
   "source": [
    "## Sorting Algorithms"
   ]
  }
 ],
 "metadata": {
  "kernelspec": {
   "display_name": "Python 3",
   "language": "python",
   "name": "python3"
  },
  "language_info": {
   "codemirror_mode": {
    "name": "ipython",
    "version": 3
   },
   "file_extension": ".py",
   "mimetype": "text/x-python",
   "name": "python",
   "nbconvert_exporter": "python",
   "pygments_lexer": "ipython3",
   "version": "3.6.5"
  }
 },
 "nbformat": 4,
 "nbformat_minor": 2
}
