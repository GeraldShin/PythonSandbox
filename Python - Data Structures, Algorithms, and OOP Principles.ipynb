{
 "cells": [
  {
   "cell_type": "markdown",
   "metadata": {},
   "source": [
    "# Objects, Types, Expressions Review"
   ]
  },
  {
   "cell_type": "code",
   "execution_count": 1,
   "metadata": {},
   "outputs": [],
   "source": [
    "from IPython.core.interactiveshell import InteractiveShell\n",
    "InteractiveShell.ast_node_interactivity = \"all\"\n",
    "#this command will print all outputs, not just the final one. Jupyter quirk."
   ]
  },
  {
   "cell_type": "markdown",
   "metadata": {},
   "source": [
    "### Dictionaries and Dictionary Features"
   ]
  },
  {
   "cell_type": "code",
   "execution_count": 2,
   "metadata": {},
   "outputs": [
    {
     "data": {
      "text/plain": [
       "dict_items([('one', 1), ('two', 2), ('three', 3), ('four', 4)])"
      ]
     },
     "execution_count": 2,
     "metadata": {},
     "output_type": "execute_result"
    },
    {
     "data": {
      "text/plain": [
       "dict_items([('one', 1), ('two', 2), ('three', 3), ('four', 4), ('five', [5]), ('six', 6)])"
      ]
     },
     "execution_count": 2,
     "metadata": {},
     "output_type": "execute_result"
    },
    {
     "data": {
      "text/plain": [
       "dict_items([('one', 1), ('two', 2), ('three', 3), ('four', 4), ('five', [5, 55, 555]), ('six', 6)])"
      ]
     },
     "execution_count": 2,
     "metadata": {},
     "output_type": "execute_result"
    }
   ],
   "source": [
    "from collections import defaultdict \n",
    "#defaultdict is helpful becauseit will initialize a key if it doesnt exist yet with an empty list\n",
    "\n",
    "sampledict = {'one' : 1, 'two' : 2, 'three' : 3, 'four' : 4}\n",
    "sampledict.items() #returns the key-value pairs in the dictionary object\n",
    "\n",
    "neweles = {'five' : [5], 'six' : 6} #values can be ints, strings, dicts, lists, etc.\n",
    "\n",
    "stackeles1 = 55\n",
    "stackeles2 = 555\n",
    "\n",
    "sampledict.update(neweles) #method adds the elements of the given obj to the dictionary\n",
    "\n",
    "sampledict.items()\n",
    "\n",
    "sampledict['five'].append(stackeles1)\n",
    "sampledict['five'].append(stackeles2) #add value to keys\n",
    "\n",
    "sampledict.items()"
   ]
  },
  {
   "cell_type": "code",
   "execution_count": 3,
   "metadata": {},
   "outputs": [
    {
     "data": {
      "text/plain": [
       "[5, 55, 555]"
      ]
     },
     "execution_count": 3,
     "metadata": {},
     "output_type": "execute_result"
    }
   ],
   "source": [
    "#So we can check if the key exists in the dictionary and then prints out the values associated with that key...\n",
    "\n",
    "for key, value in sampledict.items():\n",
    "    if key == 'five':\n",
    "        value"
   ]
  },
  {
   "cell_type": "code",
   "execution_count": 4,
   "metadata": {},
   "outputs": [
    {
     "data": {
      "text/plain": [
       "['five', 'four', 'one', 'six', 'three', 'two']"
      ]
     },
     "execution_count": 4,
     "metadata": {},
     "output_type": "execute_result"
    },
    {
     "data": {
      "text/plain": [
       "[5, 4, 1, 6, 3, 2]"
      ]
     },
     "execution_count": 4,
     "metadata": {},
     "output_type": "execute_result"
    },
    {
     "data": {
      "text/plain": [
       "['one', 'two', 'three', 'four', 'five', 'six']"
      ]
     },
     "execution_count": 4,
     "metadata": {},
     "output_type": "execute_result"
    },
    {
     "data": {
      "text/plain": [
       "['six', 'five', 'four', 'three', 'two', 'one']"
      ]
     },
     "execution_count": 4,
     "metadata": {},
     "output_type": "execute_result"
    }
   ],
   "source": [
    "#there are a couple ways to sort dicts and a few parameters that might make life easier\n",
    "#we're going to change our list value we made above so that we can use sorting. Can't really compare a list to an int\n",
    "sampledict['five'] = 5\n",
    "\n",
    "sorted(list(sampledict)) #alpha sort of our dict's keys\n",
    "\n",
    "[value for (key, value) in sorted(sampledict.items())]\n",
    "\n",
    "sorted(list(sampledict), key = sampledict.__getitem__) #sorts the dictionary based on the dictionary's values\n",
    "\n",
    "sorted(list(sampledict), key = sampledict.__getitem__, reverse=True) #reverse will do as it suggests\n"
   ]
  },
  {
   "cell_type": "markdown",
   "metadata": {},
   "source": [
    "## Sets\n",
    "Sets are great because they're mutable and have a few methods that make data creation/preparation a lot easier. \n",
    "The major downside would be that there is no indexing or slicing operations."
   ]
  },
  {
   "cell_type": "code",
   "execution_count": 5,
   "metadata": {},
   "outputs": [
    {
     "data": {
      "text/plain": [
       "{('ab', 3, 4, (5, 6))}"
      ]
     },
     "execution_count": 5,
     "metadata": {},
     "output_type": "execute_result"
    },
    {
     "data": {
      "text/plain": [
       "{11}"
      ]
     },
     "execution_count": 5,
     "metadata": {},
     "output_type": "execute_result"
    },
    {
     "name": "stdout",
     "output_type": "stream",
     "text": [
      "11\n",
      "('ab', 3, 4, (5, 6))\n"
     ]
    }
   ],
   "source": [
    "a = set() #mutable, most common\n",
    "b = frozenset() #immutable, can be used as a key in dictionary as it is immutable\n",
    "\n",
    "addins = ('ab', 3, 4, (5,6)) #sets are versatile in that they can contain different data types\n",
    "\n",
    "a.add(addins) #we can add the elements in our variable to the set as so\n",
    "a\n",
    "\n",
    "a.add(11)\n",
    "c = {11, 12, 13, 11}\n",
    "a.intersection(c) #this method lets us easily find common values between sets, notice we get no duplicates for 11\n",
    "\n",
    "#you can also iterate through sets\n",
    "for item in a: print(item)"
   ]
  },
  {
   "cell_type": "markdown",
   "metadata": {},
   "source": []
  },
  {
   "cell_type": "code",
   "execution_count": 6,
   "metadata": {},
   "outputs": [
    {
     "data": {
      "text/plain": [
       "1381510829808"
      ]
     },
     "execution_count": 6,
     "metadata": {},
     "output_type": "execute_result"
    }
   ],
   "source": [
    "greet = \"hello world\"\n",
    "\n",
    "id(greet)\n",
    "#this is cool because it will print out the place in the memory of this variable, it will have this id for the\n",
    "#lifetime of the object..."
   ]
  },
  {
   "cell_type": "code",
   "execution_count": 7,
   "metadata": {},
   "outputs": [
    {
     "data": {
      "text/plain": [
       "[['here', 4], ['is', 2], ['a', 1], ['sentence', 8]]"
      ]
     },
     "execution_count": 7,
     "metadata": {},
     "output_type": "execute_result"
    }
   ],
   "source": [
    "words = 'here is a sentence'.split()\n",
    "\n",
    "[[word, len(word)] for word in words]\n",
    "\n",
    "#python functions work in list comps, pretty neat"
   ]
  },
  {
   "cell_type": "code",
   "execution_count": 8,
   "metadata": {},
   "outputs": [
    {
     "data": {
      "text/plain": [
       "'Bonjour le monde'"
      ]
     },
     "execution_count": 8,
     "metadata": {},
     "output_type": "execute_result"
    }
   ],
   "source": [
    "def greeting(language):    \n",
    "    if language== 'eng':             \n",
    "        return 'hello world'       \n",
    "    if language  == 'fr':             \n",
    "        return 'Bonjour le monde'       \n",
    "    else: \n",
    "        return 'language not supported'\n",
    "\n",
    "l = [greeting('eng'), greeting('fr'), greeting('kor')]\n",
    "\n",
    "l[1] \n",
    "#functions that are called within the list will have the value of the result when called using list index"
   ]
  },
  {
   "cell_type": "code",
   "execution_count": 9,
   "metadata": {},
   "outputs": [
    {
     "data": {
      "text/plain": [
       "[1, 8, 27, 64]"
      ]
     },
     "execution_count": 9,
     "metadata": {},
     "output_type": "execute_result"
    },
    {
     "data": {
      "text/plain": [
       "['in', 'The', 'word', 'this', 'longest', 'sentence.']"
      ]
     },
     "execution_count": 9,
     "metadata": {},
     "output_type": "execute_result"
    }
   ],
   "source": [
    "#functions that return functions or take functions as arguments are HIGHER ORDER FUNCTIONS\n",
    "\n",
    "#filter() / map()\n",
    "\n",
    "nums = [1, 2, 3, 4]\n",
    "\n",
    "list(map(lambda x: x**3, nums))\n",
    "\n",
    "#function as an argument to another function. (len passed to sorted)\n",
    "\n",
    "words = str.split('The longest word in this sentence.')\n",
    "\n",
    "sorted(words, key=len)\n",
    "#smallest to largest"
   ]
  },
  {
   "cell_type": "code",
   "execution_count": 10,
   "metadata": {},
   "outputs": [
    {
     "data": {
      "text/plain": [
       "250000000000"
      ]
     },
     "execution_count": 10,
     "metadata": {},
     "output_type": "execute_result"
    },
    {
     "name": "stdout",
     "output_type": "stream",
     "text": [
      "Time to sum an iterator: 0.051861\n"
     ]
    },
    {
     "data": {
      "text/plain": [
       "250000000000"
      ]
     },
     "execution_count": 10,
     "metadata": {},
     "output_type": "execute_result"
    },
    {
     "name": "stdout",
     "output_type": "stream",
     "text": [
      "Time to build and sum a list: 0.076794\n"
     ]
    }
   ],
   "source": [
    "import time\n",
    "\n",
    "#Generators use the yield keyword\n",
    "\n",
    "def oddGen(n, m):\n",
    "    while n < m:\n",
    "        yield n\n",
    "        n += 2 \n",
    "        \n",
    "def oddList(n, m):\n",
    "    list1 = []\n",
    "    while n < m:\n",
    "        list1.append(n)\n",
    "        n += 2\n",
    "    return list1\n",
    "\n",
    "t1 = time.time()\n",
    "sum(oddGen(1, 1000000))\n",
    "print(\"Time to sum an iterator: %f\" % (time.time() - t1)) \n",
    "\n",
    "t1 = time.time()\n",
    "sum(oddList(1, 1000000))\n",
    "print(\"Time to build and sum a list: %f\" % (time.time() - t1))\n"
   ]
  },
  {
   "cell_type": "markdown",
   "metadata": {},
   "source": [
    "### Generator Expression:\n",
    "This is similar to list comprehensions however they do not create a list, they create a **generator object**.  \n",
    "Therefore, it does not create data and instead creates it on demand. \n",
    "\n",
    "This means that you can't use sequencing methods like append() or insert().  \n",
    "You can easily change this into a list by using the list() function. "
   ]
  },
  {
   "cell_type": "code",
   "execution_count": 11,
   "metadata": {},
   "outputs": [
    {
     "data": {
      "text/plain": [
       "<generator object <genexpr> at 0x00000141A8738DE0>"
      ]
     },
     "execution_count": 11,
     "metadata": {},
     "output_type": "execute_result"
    }
   ],
   "source": [
    "list2 = [1, 2, 3, 4]\n",
    "\n",
    "gen = (10**i for i in list2)\n",
    "gen\n",
    "#notice that this is a generator object, and not data that has been created"
   ]
  },
  {
   "cell_type": "code",
   "execution_count": 12,
   "metadata": {},
   "outputs": [
    {
     "name": "stdout",
     "output_type": "stream",
     "text": [
      "10\n",
      "100\n",
      "1000\n",
      "10000\n"
     ]
    }
   ],
   "source": [
    "for x in gen: print(x)\n",
    "# this wil iterate through the generator, creating these values on demand and not storing them in memory. "
   ]
  },
  {
   "cell_type": "markdown",
   "metadata": {},
   "source": [
    "### Classes and Object-Oriented Programming (OOP) Principles\n",
    "\n",
    "**Classes** are a collection of functions, variables, and properties that **share** attributes across the class.  \n",
    "\n",
    "These will be written using the 'class' statement. This line will not create a an instance of the class though, not until a variable is assigned to it.  \n",
    "The body of the class statement is a series of statements that run during the class definition.\n",
    "\n",
    "Functions within the class are called **instance methods**. They apply operations of the class instance by passing an instance of that class as the first argument (you will see 'self' in the calls). "
   ]
  },
  {
   "cell_type": "code",
   "execution_count": 13,
   "metadata": {},
   "outputs": [],
   "source": [
    "class Employee(object):\n",
    "    numEmployee = 0\n",
    "    \n",
    "    def __init__(self, name, rate):\n",
    "        self.owed = 0\n",
    "        self.name = name\n",
    "        self.rate = rate\n",
    "        Employee.numEmployee += 1 \n",
    "        \n",
    "    def __del__(self):\n",
    "        Employee.numEmployee -= 1\n",
    "        \n",
    "    def hours(self, numHours):\n",
    "        self.owed += numHours * self.rate\n",
    "        return(f\"{numHours} hours worked\")\n",
    "    \n",
    "    def pay(self):\n",
    "        self.owed = 0\n",
    "        return(f\"paid {self.name}, now nothing is owed.\")"
   ]
  },
  {
   "cell_type": "code",
   "execution_count": 14,
   "metadata": {},
   "outputs": [
    {
     "data": {
      "text/plain": [
       "2"
      ]
     },
     "execution_count": 14,
     "metadata": {},
     "output_type": "execute_result"
    },
    {
     "data": {
      "text/plain": [
       "'20 hours worked'"
      ]
     },
     "execution_count": 14,
     "metadata": {},
     "output_type": "execute_result"
    },
    {
     "data": {
      "text/plain": [
       "370.0"
      ]
     },
     "execution_count": 14,
     "metadata": {},
     "output_type": "execute_result"
    },
    {
     "data": {
      "text/plain": [
       "'paid Jill, now nothing is owed.'"
      ]
     },
     "execution_count": 14,
     "metadata": {},
     "output_type": "execute_result"
    }
   ],
   "source": [
    "emp1 = Employee(\"Jill\", 18.50)\n",
    "#this will run the __init__\n",
    "#self creates an instance of the class\n",
    "#name is passed as \"Jill\"\n",
    "#rate is passed as 18.50\n",
    "#numEmployee is incremented +1 \n",
    "emp2 = Employee(\"Jack\", 15.50)\n",
    "\n",
    "Employee.numEmployee \n",
    "\n",
    "emp1.hours(20)\n",
    "\n",
    "emp1.owed\n",
    "\n",
    "emp1.pay()"
   ]
  },
  {
   "cell_type": "code",
   "execution_count": 15,
   "metadata": {},
   "outputs": [
    {
     "data": {
      "text/plain": [
       "['__class__',\n",
       " '__delattr__',\n",
       " '__dir__',\n",
       " '__doc__',\n",
       " '__eq__',\n",
       " '__format__',\n",
       " '__ge__',\n",
       " '__getattribute__',\n",
       " '__gt__',\n",
       " '__hash__',\n",
       " '__init__',\n",
       " '__init_subclass__',\n",
       " '__le__',\n",
       " '__lt__',\n",
       " '__ne__',\n",
       " '__new__',\n",
       " '__reduce__',\n",
       " '__reduce_ex__',\n",
       " '__repr__',\n",
       " '__setattr__',\n",
       " '__sizeof__',\n",
       " '__str__',\n",
       " '__subclasshook__']"
      ]
     },
     "execution_count": 15,
     "metadata": {},
     "output_type": "execute_result"
    }
   ],
   "source": [
    "dir(object) #these will be the special methods inside the class"
   ]
  },
  {
   "cell_type": "code",
   "execution_count": 16,
   "metadata": {},
   "outputs": [],
   "source": [
    "#Typically used functions are actually methods inside the class. For instance, the + operator and the len() function\n",
    "#are actually...\n",
    "\n",
    "\n",
    "#__add__() \n",
    "#&\n",
    "#my_object.__len__() \n",
    "\n",
    "\n",
    "#the only special method we will actually be using is the __init__ method\n",
    "#for this reason, it is strongly recommended to not use any double underscores in naming conventions\n",
    "\n",
    "class my_class():\n",
    "    def __init__(self, greet):\n",
    "        self.greet = greet\n",
    "    def __repr__(self):\n",
    "        return f'this is a custom object {self.greet!r}'\n",
    "        # this !r is a placeholder to return the standard representation of the object\n",
    "        # this way, we can see exactly what we pass the class. See example below."
   ]
  },
  {
   "cell_type": "code",
   "execution_count": 17,
   "metadata": {},
   "outputs": [
    {
     "data": {
      "text/plain": [
       "this is a custom object 'somestring'"
      ]
     },
     "execution_count": 17,
     "metadata": {},
     "output_type": "execute_result"
    }
   ],
   "source": [
    "my_class('somestring') "
   ]
  },
  {
   "cell_type": "markdown",
   "metadata": {},
   "source": [
    "### Inheritance\n",
    "You can create a hierarchy of classes that can modify the existing class. This is done by passing the 'inherited' class as an argument into the class definition. "
   ]
  },
  {
   "cell_type": "code",
   "execution_count": 18,
   "metadata": {},
   "outputs": [],
   "source": [
    "#remember our Employee class from above\n",
    "class specialEmployee(Employee):\n",
    "    def hours(self, numHours):\n",
    "        self.owed += numHours * self.rate * 2\n",
    "        return(f\"{numHours} hours worked\")"
   ]
  },
  {
   "cell_type": "markdown",
   "metadata": {},
   "source": [
    "An **instance** of the specialEmployee class is **identical** to an Employee instance except we added the hours() method. \n",
    "\n",
    "For a subclass to have new class variables, we need to add __init__() methods, like below:"
   ]
  },
  {
   "cell_type": "code",
   "execution_count": 19,
   "metadata": {},
   "outputs": [],
   "source": [
    "#again, using our Employee class\n",
    "\n",
    "class specialEmployee(Employee):\n",
    "    def __init__(self, name, rate, bonus): #here, we add bonus...\n",
    "        Employee.__init__(self, name, rate) #calls the base within the new class\n",
    "        self.bonus = bonus\n",
    "        \n",
    "    def hours(self, numHours):\n",
    "        self.owed += numHours * self.rate + self.bonus\n",
    "        return(f\"{numHours} hours worked\")\n",
    "    "
   ]
  },
  {
   "cell_type": "markdown",
   "metadata": {},
   "source": [
    "Pay close attention here as the methods from the BASE are not automatically invoked. We have to call them within the subclass. \n",
    "\n",
    "You can check class membership using the built-in function issubclass(obj1, obj2). This returns TRUE if obj1 belongs to the class of obj2 or any class derived from obj2.\n"
   ]
  },
  {
   "cell_type": "code",
   "execution_count": 20,
   "metadata": {},
   "outputs": [
    {
     "name": "stdout",
     "output_type": "stream",
     "text": [
      "True\n"
     ]
    }
   ],
   "source": [
    "print(issubclass(specialEmployee, Employee))"
   ]
  },
  {
   "cell_type": "markdown",
   "metadata": {},
   "source": [
    "**Static methods** are just ordinary functions that happen to be defined within a class. These methods cannot access the attributes of an instance, so usually they're used as a convenient way to group utility functions together. These can be explicity notated using @staticmethod.  \n",
    "\n",
    "**Class methods** operate on the class itself, not the instance. Meaning, they're associated with the classes rather than the **instances** of that class. These can be explicity notated using @classmethod. \n",
    "\n",
    "**Class methods** are further distinguished from instance methods as the pass the class as the first argument, named 'cls' by convention.\n"
   ]
  },
  {
   "cell_type": "code",
   "execution_count": 21,
   "metadata": {},
   "outputs": [],
   "source": [
    "class Aexp(object):\n",
    "    base = 2\n",
    "    @classmethod\n",
    "    def exp(cls, x):\n",
    "        return(cls.base**x)\n",
    "    \n",
    "class Bexp(Aexp):\n",
    "    base=3"
   ]
  },
  {
   "cell_type": "markdown",
   "metadata": {},
   "source": [
    "The Subclass Bexp will inherit the methods above, and simply change the base variable to 3."
   ]
  },
  {
   "cell_type": "markdown",
   "metadata": {},
   "source": [
    "### Encapsulation\n",
    "Usually all attributes and methods are accessible without restriction. From above, everything defined in a base class is available to a subclass as well. This can lead to namespace conflicts that we may want to avoid.\n",
    "\n",
    "We can do this by adding double underscores to our variables __ privateMethod will be named _Classname__privateMethod()\n",
    "\n",
    "This will be especially helpful when using a **class property** to define **mutable attributes.** A **property** is an attribute that computes a value when called, and does not store it."
   ]
  },
  {
   "cell_type": "code",
   "execution_count": 22,
   "metadata": {},
   "outputs": [],
   "source": [
    "class Bexp(Aexp):\n",
    "    __base = 3 #privatemethod\n",
    "    def __exp(self): #privatemethod\n",
    "        return(x**cls.base)"
   ]
  },
  {
   "cell_type": "markdown",
   "metadata": {},
   "source": [
    "# Data Structures"
   ]
  },
  {
   "cell_type": "markdown",
   "metadata": {},
   "source": [
    "### Modules for Data Structures and Algorithms\n",
    "There are a handful of functions available in the collections module that allow us to have better efficiency in our code. Below are the datatypes that can be found in the 'collection' module and a brief description.  \n",
    "\n",
    "\n",
    "| Datatype | Description |\n",
    "| -------- | ----------- |\n",
    "| namedtuple() | Creates tuple subclasses with named fields. |\n",
    "| deque | Lists with fast appends and pops either end. |\n",
    "| ChainMap | Dictionary like class to create a single view of multiple mappings. |\n",
    "| Counter | Dictionary subclass for counting hashable objects. |\n",
    "| OrderedDict | Dictionary subclass that remembers the entry order. |\n",
    "| defaultdict | Dictionary subclass that calls a function to supply missing values. |\n"
   ]
  },
  {
   "cell_type": "markdown",
   "metadata": {},
   "source": [
    "#### Deques aka (Decks)\n",
    "Deque or double-ended queues are list-like objects that support thread-safe (?), memory-efficient appends. They are mutable and have some operations of lists, like indexing. They can also be assigned by index.  \n",
    "\n",
    "The major advantage that deques have over lists is when you want to insert an item. At the beginning of a deque, the operation is much faster than adding an item at the beginning of a list. Also adding items to the end of deques is comparably quick to adding items to the end of a list.  \n",
    "\n",
    "They can also be serialized (?) using the pickle module."
   ]
  },
  {
   "cell_type": "code",
   "execution_count": 23,
   "metadata": {},
   "outputs": [
    {
     "data": {
      "text/plain": [
       "deque(['z', 'y', 'x', 'a', 'b', 'c', 'd', 'e', 'f', 'g', 'h'])"
      ]
     },
     "execution_count": 23,
     "metadata": {},
     "output_type": "execute_result"
    }
   ],
   "source": [
    "from collections import deque \n",
    "\n",
    "dq = deque('bcd')\n",
    "\n",
    "dq.append('e') #adds to the right\n",
    "dq.appendleft('a') #adds to the left\n",
    "\n",
    "dq.extend('fgh') #adds multiple items to right\n",
    "dq.extendleft('xyz') #adds multiple items to the left\n",
    "\n",
    "dq"
   ]
  },
  {
   "cell_type": "code",
   "execution_count": 24,
   "metadata": {},
   "outputs": [
    {
     "data": {
      "text/plain": [
       "'h'"
      ]
     },
     "execution_count": 24,
     "metadata": {},
     "output_type": "execute_result"
    },
    {
     "data": {
      "text/plain": [
       "deque(['z', 'y', 'x', 'a', 'b', 'c', 'd', 'e', 'f', 'g'])"
      ]
     },
     "execution_count": 24,
     "metadata": {},
     "output_type": "execute_result"
    },
    {
     "data": {
      "text/plain": [
       "'z'"
      ]
     },
     "execution_count": 24,
     "metadata": {},
     "output_type": "execute_result"
    },
    {
     "data": {
      "text/plain": [
       "deque(['y', 'x', 'a', 'b', 'c', 'd', 'e', 'f', 'g'])"
      ]
     },
     "execution_count": 24,
     "metadata": {},
     "output_type": "execute_result"
    }
   ],
   "source": [
    "dq.pop() #returns AND removes an item from the right\n",
    "dq\n",
    "\n",
    "dq.popleft() #returns AND removes an item from the left\n",
    "dq"
   ]
  },
  {
   "cell_type": "code",
   "execution_count": 25,
   "metadata": {},
   "outputs": [
    {
     "data": {
      "text/plain": [
       "deque(['b', 'c', 'd', 'e', 'f', 'g', 'y', 'x', 'a'])"
      ]
     },
     "execution_count": 25,
     "metadata": {},
     "output_type": "execute_result"
    }
   ],
   "source": [
    "#rotate(n) method will move all items N spots, this can also be negative \n",
    "\n",
    "dq.rotate(-3)\n",
    "dq"
   ]
  },
  {
   "cell_type": "markdown",
   "metadata": {},
   "source": [
    "A useful feature of deques is that you can pass it the optional parameter maxlen. This will limit the size of the deque. This makes deques particularly useful for a data structure called ***circular buffer***. A circular buffer is a fixed-size structure that is effectively connected end to end and are usually used for buffering streams of data. "
   ]
  },
  {
   "cell_type": "code",
   "execution_count": 26,
   "metadata": {},
   "outputs": [
    {
     "name": "stdout",
     "output_type": "stream",
     "text": [
      "deque([0], maxlen=3)\n",
      "deque([0, 1], maxlen=3)\n",
      "deque([0, 1, 2], maxlen=3)\n",
      "deque([1, 2, 3], maxlen=3)\n",
      "deque([2, 3, 4], maxlen=3)\n",
      "deque([3, 4, 5], maxlen=3)\n"
     ]
    }
   ],
   "source": [
    "dq2 = deque([], maxlen = 3)\n",
    "\n",
    "for i in range(6):\n",
    "    dq2.append(i)\n",
    "    print(dq2) #notice that once the max size is reached, newer elements overwrite older elements"
   ]
  },
  {
   "cell_type": "markdown",
   "metadata": {},
   "source": [
    "#### Chainmaps\n",
    "\n",
    "The chainmap class links a number of dictionaries or other mappings to be treated as one object. These details come along with using chainmaps:  \n",
    "* maps (attribute) - you can access the mappings for ChainMap objects by calling maps[i] to get the i'th dictionary.\n",
    "* new_child() (method) - \n",
    "* parents (property) -  \n",
    "\n",
    "Chainmaps are an ordered list of dictionaries and are useful in applications when we are working with a number of dictionaries containing ***related*** data. Chainmap is typically used to simulate nested contexts, like when we have multiple overriding configuration settings."
   ]
  },
  {
   "cell_type": "code",
   "execution_count": 27,
   "metadata": {},
   "outputs": [
    {
     "data": {
      "text/plain": [
       "'bluesky'"
      ]
     },
     "execution_count": 27,
     "metadata": {},
     "output_type": "execute_result"
    },
    {
     "data": {
      "text/plain": [
       "'bluesky'"
      ]
     },
     "execution_count": 27,
     "metadata": {},
     "output_type": "execute_result"
    },
    {
     "data": {
      "text/plain": [
       "'Default'"
      ]
     },
     "execution_count": 27,
     "metadata": {},
     "output_type": "execute_result"
    }
   ],
   "source": [
    "from collections import ChainMap\n",
    "\n",
    "defaults =  {'theme' : 'Default', 'language' : 'end', 'showIndex' : True, 'showFooter' : True}\n",
    "\n",
    "cm = ChainMap(defaults) #makes a CM with configs we made above\n",
    "\n",
    "cm2 = cm.new_child({'theme' : 'bluesky'}) #note here that the child's theme of bluesky will overwrite 'Default'\n",
    "\n",
    "cm2['theme'] #returns the child's theme\n",
    "\n",
    "cm2.pop('theme') #returns AND REMOVES the child's theme (leftmost)\n",
    "\n",
    "cm2['theme'] #returns Default once again, as child's theme was pop'd"
   ]
  },
  {
   "cell_type": "markdown",
   "metadata": {},
   "source": [
    "So the advantage of using ChainMap over a normal dictionary is that it ***retains previous values for keys***. In the above example, we overwrote theme but still had the original value once we popped out the child's theme. ChainMaps keep this record of change within the data structure.  \n",
    "\n",
    "We can **retrieve** and **change** values in any of the dictionaries by indexing with the map() method. If you want to find the parent's settings, you can use the parents() method. "
   ]
  },
  {
   "cell_type": "code",
   "execution_count": 28,
   "metadata": {},
   "outputs": [
    {
     "data": {
      "text/plain": [
       "{'theme': 'Default', 'language': 'end', 'showIndex': True, 'showFooter': True}"
      ]
     },
     "execution_count": 28,
     "metadata": {},
     "output_type": "execute_result"
    },
    {
     "data": {
      "text/plain": [
       "False"
      ]
     },
     "execution_count": 28,
     "metadata": {},
     "output_type": "execute_result"
    },
    {
     "data": {
      "text/plain": [
       "'desert'"
      ]
     },
     "execution_count": 28,
     "metadata": {},
     "output_type": "execute_result"
    }
   ],
   "source": [
    "#as a reminder, the defaults config:\n",
    "defaults\n",
    "\n",
    "cm2.maps[0] = {'theme' : 'desert' , 'showIndex' : False} #adds these values to the root index of the ChainMap\n",
    "\n",
    "cm2['showIndex'] #see that it overwrites the True showIndex value in the parent\n",
    "cm2['theme']"
   ]
  },
  {
   "cell_type": "markdown",
   "metadata": {},
   "source": [
    "#### Counter Objects\n",
    "Counters are a subclass of dictionaries where each key is a hashable object and the value to that key is an integer count of the object. There are three ways to initialize a counter:"
   ]
  },
  {
   "cell_type": "code",
   "execution_count": 29,
   "metadata": {},
   "outputs": [
    {
     "data": {
      "text/plain": [
       "ChainMap({'theme': 'Default', 'language': 'end', 'showIndex': True, 'showFooter': True})"
      ]
     },
     "execution_count": 29,
     "metadata": {},
     "output_type": "execute_result"
    },
    {
     "data": {
      "text/plain": [
       "Counter({'a': 1, 'n': 2, 'y': 1, 's': 1, 'e': 3, 'q': 1, 'u': 1, 'c': 1})"
      ]
     },
     "execution_count": 29,
     "metadata": {},
     "output_type": "execute_result"
    }
   ],
   "source": [
    "cm2.parents\n",
    "\n",
    "from collections import Counter\n",
    "#create an empty counter object and populate it by using its update method an iterable or a dictionary:\n",
    "\n",
    "c1 = Counter('anysequence')\n",
    "\n",
    "c2 = Counter({'a' : 1, 'c' : 1, 'e' : 3})\n",
    "\n",
    "c3 = Counter(a=1, c=1, e=3)\n",
    "\n",
    "c1"
   ]
  },
  {
   "cell_type": "code",
   "execution_count": 30,
   "metadata": {},
   "outputs": [
    {
     "data": {
      "text/plain": [
       "Counter({'a': 2, 'b': 1, 'c': 1})"
      ]
     },
     "execution_count": 30,
     "metadata": {},
     "output_type": "execute_result"
    },
    {
     "data": {
      "text/plain": [
       "Counter({'a': 5, 'b': 1, 'c': 1})"
      ]
     },
     "execution_count": 30,
     "metadata": {},
     "output_type": "execute_result"
    },
    {
     "data": {
      "text/plain": [
       "0"
      ]
     },
     "execution_count": 30,
     "metadata": {},
     "output_type": "execute_result"
    }
   ],
   "source": [
    "#Notice that instead of returning a KeyError for missing items, Counters just display a zero:\n",
    "\n",
    "ct = Counter()\n",
    "\n",
    "ct.update('abca')\n",
    "ct\n",
    "\n",
    "ct.update({'a' : 3}) #updates the count of 'a'\n",
    "\n",
    "ct\n",
    "\n",
    "ct['x']"
   ]
  },
  {
   "cell_type": "code",
   "execution_count": 31,
   "metadata": {},
   "outputs": [
    {
     "data": {
      "text/plain": [
       "['a', 'a', 'b', 'b', 'b', 'c', 'd', 'd', 'd', 'e', 'e']"
      ]
     },
     "execution_count": 31,
     "metadata": {},
     "output_type": "execute_result"
    },
    {
     "data": {
      "text/plain": [
       "[('b', 3), ('d', 3), ('a', 2), ('e', 2), ('c', 1)]"
      ]
     },
     "execution_count": 31,
     "metadata": {},
     "output_type": "execute_result"
    },
    {
     "data": {
      "text/plain": [
       "Counter({'a': 0, 'b': 3, 'c': 1, 'd': 3, 'e': 2})"
      ]
     },
     "execution_count": 31,
     "metadata": {},
     "output_type": "execute_result"
    }
   ],
   "source": [
    "ct.update({\n",
    "    'a':-3,\n",
    "    'b':2,\n",
    "    'd':3,\n",
    "    'e':2\n",
    "})\n",
    "\n",
    "sorted(ct.elements())\n",
    "\n",
    "#two helpful methods are most_common() and subtract()\n",
    "\n",
    "ct.most_common()  #orders by the key that has the highest value\n",
    "ct.subtract({\n",
    "    'a':2\n",
    "}) #this behaves similarly to update, but instead of adding, it subtracts the value:\n",
    "\n",
    "ct "
   ]
  },
  {
   "cell_type": "markdown",
   "metadata": {},
   "source": [
    "#### Ordered Dictionaries\n",
    "\n",
    "The important distinction about ordered dictionaries is that they remember the history of insertion. This way when we iterate over them they return values in the order that they were inserted. This is unlike a normal dictionary which is ordered arbitrarily.  \n",
    "\n",
    "An equality test between an ordered dictionary and a normal one with the same keys and values will return False unless they are ordered in the same way."
   ]
  },
  {
   "cell_type": "code",
   "execution_count": 32,
   "metadata": {},
   "outputs": [
    {
     "data": {
      "text/plain": [
       "False"
      ]
     },
     "execution_count": 32,
     "metadata": {},
     "output_type": "execute_result"
    }
   ],
   "source": [
    "from collections import OrderedDict\n",
    "od1 = OrderedDict()\n",
    "\n",
    "od1['one'] = 1\n",
    "od1['two'] = 2\n",
    "\n",
    "od2 = OrderedDict()\n",
    "\n",
    "od2['two'] = 2\n",
    "od2['one'] = 1\n",
    "\n",
    "od1  == od2"
   ]
  },
  {
   "cell_type": "markdown",
   "metadata": {},
   "source": [
    "#### defaultdict\n",
    "The defaultdict object is another subclass of dictionary, they share the same methods and operations. Normally, a dictionary will throw a KeyError when trying to access a key that does not already exist in the dictionary. Instead, the defaultdict will create a key for that dictionary if it does not already exist."
   ]
  },
  {
   "cell_type": "code",
   "execution_count": 33,
   "metadata": {},
   "outputs": [
    {
     "data": {
      "text/plain": [
       "defaultdict(int, {'red': 4, 'blue': 2, 'green': 3, 'yellow': 1})"
      ]
     },
     "execution_count": 33,
     "metadata": {},
     "output_type": "execute_result"
    }
   ],
   "source": [
    "from collections import defaultdict\n",
    "dd = defaultdict(int)\n",
    "\n",
    "words = str.split('red blue green red yellow blue red green green red')\n",
    "\n",
    "for word in words: dd[word] += 1\n",
    "    \n",
    "dd"
   ]
  },
  {
   "cell_type": "markdown",
   "metadata": {},
   "source": [
    "#### Named Tuple\n",
    "The namedtuple method returns a tuple-like object that can be accessed through named indexes as well as integer indexes. This can help create code that is a little more self-documenting and readable. Additionally, this will be helpful if we have a lot of different tuples and we need to keep track of what each tuple represents.  \n",
    "\n",
    "namedtuple is backwards compatible with tuple and inherits all of its methods. \n"
   ]
  },
  {
   "cell_type": "code",
   "execution_count": 34,
   "metadata": {},
   "outputs": [
    {
     "data": {
      "text/plain": [
       "80.0"
      ]
     },
     "execution_count": 34,
     "metadata": {},
     "output_type": "execute_result"
    }
   ],
   "source": [
    "from collections import namedtuple\n",
    "\n",
    "space = namedtuple('space' , 'x y z')\n",
    "\n",
    "s1 = space(x = 2.0, y = 4.0, z = 10) #we could also omit the variables as it will assign in order\n",
    "s1.x * s1.y * s1.z "
   ]
  },
  {
   "cell_type": "markdown",
   "metadata": {},
   "source": [
    "### Arrays\n",
    "Arrays are similar to lists but can only be of one single type of data. They also support the normal sequence operations like indexing, slicing, concatenation, and multiplication.  \n",
    "\n",
    "You will want to use arrays where possible because it is memory efficent compared to lists. "
   ]
  },
  {
   "cell_type": "code",
   "execution_count": 35,
   "metadata": {},
   "outputs": [
    {
     "data": {
      "text/plain": [
       "45.46534532014713"
      ]
     },
     "execution_count": 35,
     "metadata": {},
     "output_type": "execute_result"
    }
   ],
   "source": [
    "import array\n",
    "\n",
    "ba = array.array('i', range(10**6))\n",
    "\n",
    "bl = list(range(10**6))\n",
    "\n",
    "import sys\n",
    "\n",
    "100 * sys.getsizeof(ba) / sys.getsizeof(bl) #notice that an array uses 45% the memory space of a list"
   ]
  },
  {
   "cell_type": "markdown",
   "metadata": {},
   "source": [
    "## Queues"
   ]
  },
  {
   "cell_type": "markdown",
   "metadata": {},
   "source": [
    "## Stacks"
   ]
  },
  {
   "cell_type": "markdown",
   "metadata": {},
   "source": [
    "## Trees"
   ]
  },
  {
   "cell_type": "markdown",
   "metadata": {},
   "source": [
    "# Algorithms\n"
   ]
  },
  {
   "cell_type": "markdown",
   "metadata": {},
   "source": [
    "### Algorithm Design\n",
    "Generally, algorithms are composed of the following four elements:\n",
    "* Sequential operations\n",
    "* Actions based on the state of a data structure\n",
    "* Iteration, repeating an action a number of times\n",
    "* Recursion, calling itself on a subset of inputs\n",
    "\n",
    "#### Algorithm Design Paradigms \n",
    "There are three broad approaches to algorithm design:\n",
    "* Divide and conquer\n",
    "    * Involves breaking a problem into smaller sub problems, then combining results to obtain a global solution. This is very common and natural and is arguly the most commonly used approach to algorithm design.\n",
    "* Greedy algorithms\n",
    "    * These algorithms involve optimization and cominatorial problems. Think the traveling salesperson problem or the shortest path algorithm.\n",
    "* Dynamic programming\n",
    "    * Whenever our sub problems overlap, this algorithm is useful. Instead of breaking down into sub problems, "
   ]
  },
  {
   "cell_type": "markdown",
   "metadata": {},
   "source": [
    "## Algorithms 101"
   ]
  },
  {
   "cell_type": "markdown",
   "metadata": {},
   "source": [
    "## Graph Algorithms"
   ]
  },
  {
   "cell_type": "markdown",
   "metadata": {},
   "source": [
    "## Sorting Algorithms"
   ]
  }
 ],
 "metadata": {
  "kernelspec": {
   "display_name": "Python 3",
   "language": "python",
   "name": "python3"
  },
  "language_info": {
   "codemirror_mode": {
    "name": "ipython",
    "version": 3
   },
   "file_extension": ".py",
   "mimetype": "text/x-python",
   "name": "python",
   "nbconvert_exporter": "python",
   "pygments_lexer": "ipython3",
   "version": "3.7.0"
  }
 },
 "nbformat": 4,
 "nbformat_minor": 2
}
