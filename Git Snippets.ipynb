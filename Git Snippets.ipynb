{
 "cells": [
  {
   "cell_type": "markdown",
   "metadata": {},
   "source": [
    "# Git Code Snippets\n",
    "Adding in all of the git code I find online that might be helpful."
   ]
  },
  {
   "cell_type": "markdown",
   "metadata": {},
   "source": [
    "    git init \n",
    "This will start a brand new, empty repository in the git directory."
   ]
  },
  {
   "cell_type": "markdown",
   "metadata": {},
   "source": [
    "The ordering usually goes something like this:\n",
    "0. Git Clone -> Copy the repository that you wish to work out of\n",
    "1. Git Add -> items that you want to commit up\n",
    "2. Git Commit -> staging the items that you want to push up\n",
    "3. Git Push -> Writing your files over the existing repository\n",
    "    "
   ]
  },
  {
   "cell_type": "markdown",
   "metadata": {},
   "source": [
    "     'git add .'\n",
    " This command will add every file to your commit that is inside of your current working directory. "
   ]
  },
  {
   "cell_type": "markdown",
   "metadata": {},
   "source": [
    "    git commit -m 'meaningful message about changes you're doing' \n",
    "This command will commit up your staged files and then add the commit message alongside it. "
   ]
  },
  {
   "cell_type": "markdown",
   "metadata": {},
   "source": [
    "Up until now you've mainly worked in your own private repositories but when you're working with individuals on projects, you'll need to understand branching.\n",
    "\n",
    "#### Branching - Designates deviations from the master where there are copies of code and you can create/alter/etc what you need to on your own branch. \n",
    "##### Once this has been completed, you'll be able to merge your standalone branch into the master branch where the project resides."
   ]
  },
  {
   "cell_type": "markdown",
   "metadata": {},
   "source": [
    "    git checkout -b <branchnamehere>\n",
    "This command will create a new branch that you can work on. You will want to add your files, commit, and then push up to this branch using the below command."
   ]
  },
  {
   "cell_type": "markdown",
   "metadata": {},
   "source": [
    "    git push origin <branchnamehere>\n",
    "This will push your commit up to the newly created branch."
   ]
  },
  {
   "cell_type": "code",
   "execution_count": null,
   "metadata": {},
   "outputs": [],
   "source": []
  }
 ],
 "metadata": {
  "kernelspec": {
   "display_name": "Python 3",
   "language": "python",
   "name": "python3"
  },
  "language_info": {
   "codemirror_mode": {
    "name": "ipython",
    "version": 3
   },
   "file_extension": ".py",
   "mimetype": "text/x-python",
   "name": "python",
   "nbconvert_exporter": "python",
   "pygments_lexer": "ipython3",
   "version": "3.6.2"
  }
 },
 "nbformat": 4,
 "nbformat_minor": 2
}
